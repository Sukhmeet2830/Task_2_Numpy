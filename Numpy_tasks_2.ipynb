{
  "cells": [
    {
      "cell_type": "markdown",
      "metadata": {
        "id": "rN4n33-G1WM_"
      },
      "source": [
        "# Numpy\n",
        "\n"
      ]
    },
    {
      "cell_type": "markdown",
      "metadata": {
        "id": "D3R6x_651WNG"
      },
      "source": [
        "#### 1. Import the numpy package under the name `np` (★☆☆) \n",
        "(**hint**: import … as …)"
      ]
    },
    {
      "cell_type": "code",
      "execution_count": 1,
      "metadata": {
        "collapsed": true,
        "id": "L3a5lRG21WNH"
      },
      "outputs": [],
      "source": [
        "import numpy as np"
      ]
    },
    {
      "cell_type": "markdown",
      "metadata": {
        "id": "tWAzpccT1WNJ"
      },
      "source": [
        "#### 2. Print the numpy version and the configuration (★☆☆) \n",
        "(**hint**: np.\\_\\_version\\_\\_, np.show\\_config)"
      ]
    },
    {
      "cell_type": "code",
      "execution_count": 2,
      "metadata": {
        "id": "JRaNacRY1WNJ",
        "colab": {
          "base_uri": "https://localhost:8080/"
        },
        "outputId": "4791da33-14cf-4d63-efc2-0c58d5018758"
      },
      "outputs": [
        {
          "output_type": "stream",
          "name": "stdout",
          "text": [
            "1.21.6\n",
            "<function show at 0x7f1dc39d7670>\n"
          ]
        }
      ],
      "source": [
        "print(np.__version__)\n",
        "print(np.show_config)"
      ]
    },
    {
      "cell_type": "markdown",
      "metadata": {
        "id": "oTiw0PCX1WNK"
      },
      "source": [
        "#### 3. Create a null vector of size 10 (★☆☆) \n",
        "(**hint**: np.zeros)"
      ]
    },
    {
      "cell_type": "code",
      "execution_count": 3,
      "metadata": {
        "id": "_53ygajt1WNK",
        "colab": {
          "base_uri": "https://localhost:8080/"
        },
        "outputId": "b9ce571a-8623-4443-8c71-68c4114733c0"
      },
      "outputs": [
        {
          "output_type": "execute_result",
          "data": {
            "text/plain": [
              "array([0, 0, 0, 0, 0, 0, 0, 0, 0, 0])"
            ]
          },
          "metadata": {},
          "execution_count": 3
        }
      ],
      "source": [
        "a=np.zeros(10,dtype=int)\n",
        "a"
      ]
    },
    {
      "cell_type": "markdown",
      "metadata": {
        "id": "D0fpuI-41WNL"
      },
      "source": [
        "#### 4.  How to find the memory size of any array (★☆☆) \n",
        "(**hint**: size, itemsize)"
      ]
    },
    {
      "cell_type": "code",
      "execution_count": 4,
      "metadata": {
        "id": "3nagUxl01WNL",
        "colab": {
          "base_uri": "https://localhost:8080/"
        },
        "outputId": "c4e9e8ff-774d-4c95-e817-3a178bf3ed4c"
      },
      "outputs": [
        {
          "output_type": "stream",
          "name": "stdout",
          "text": [
            "10\n",
            "8\n"
          ]
        }
      ],
      "source": [
        "print(a.size)\n",
        "print(a.itemsize)"
      ]
    },
    {
      "cell_type": "markdown",
      "metadata": {
        "id": "qFAax3QI1WNM"
      },
      "source": [
        "#### 5.  How to get the documentation of the numpy add function from the command line? (★☆☆) \n",
        "(**hint**: np.info)"
      ]
    },
    {
      "cell_type": "code",
      "execution_count": 5,
      "metadata": {
        "collapsed": true,
        "id": "uSySDSNT1WNM",
        "colab": {
          "base_uri": "https://localhost:8080/"
        },
        "outputId": "da2a63fa-5aea-49ca-885e-3ad7ac4db15e"
      },
      "outputs": [
        {
          "output_type": "stream",
          "name": "stdout",
          "text": [
            "add(x1, x2, /, out=None, *, where=True, casting='same_kind', order='K', dtype=None, subok=True[, signature, extobj])\n",
            "\n",
            "Add arguments element-wise.\n",
            "\n",
            "Parameters\n",
            "----------\n",
            "x1, x2 : array_like\n",
            "    The arrays to be added.\n",
            "    If ``x1.shape != x2.shape``, they must be broadcastable to a common\n",
            "    shape (which becomes the shape of the output).\n",
            "out : ndarray, None, or tuple of ndarray and None, optional\n",
            "    A location into which the result is stored. If provided, it must have\n",
            "    a shape that the inputs broadcast to. If not provided or None,\n",
            "    a freshly-allocated array is returned. A tuple (possible only as a\n",
            "    keyword argument) must have length equal to the number of outputs.\n",
            "where : array_like, optional\n",
            "    This condition is broadcast over the input. At locations where the\n",
            "    condition is True, the `out` array will be set to the ufunc result.\n",
            "    Elsewhere, the `out` array will retain its original value.\n",
            "    Note that if an uninitialized `out` array is created via the default\n",
            "    ``out=None``, locations within it where the condition is False will\n",
            "    remain uninitialized.\n",
            "**kwargs\n",
            "    For other keyword-only arguments, see the\n",
            "    :ref:`ufunc docs <ufuncs.kwargs>`.\n",
            "\n",
            "Returns\n",
            "-------\n",
            "add : ndarray or scalar\n",
            "    The sum of `x1` and `x2`, element-wise.\n",
            "    This is a scalar if both `x1` and `x2` are scalars.\n",
            "\n",
            "Notes\n",
            "-----\n",
            "Equivalent to `x1` + `x2` in terms of array broadcasting.\n",
            "\n",
            "Examples\n",
            "--------\n",
            ">>> np.add(1.0, 4.0)\n",
            "5.0\n",
            ">>> x1 = np.arange(9.0).reshape((3, 3))\n",
            ">>> x2 = np.arange(3.0)\n",
            ">>> np.add(x1, x2)\n",
            "array([[  0.,   2.,   4.],\n",
            "       [  3.,   5.,   7.],\n",
            "       [  6.,   8.,  10.]])\n",
            "\n",
            "The ``+`` operator can be used as a shorthand for ``np.add`` on ndarrays.\n",
            "\n",
            ">>> x1 = np.arange(9.0).reshape((3, 3))\n",
            ">>> x2 = np.arange(3.0)\n",
            ">>> x1 + x2\n",
            "array([[ 0.,  2.,  4.],\n",
            "       [ 3.,  5.,  7.],\n",
            "       [ 6.,  8., 10.]])\n",
            "None\n"
          ]
        }
      ],
      "source": [
        "print(np.info(np.add))"
      ]
    },
    {
      "cell_type": "markdown",
      "metadata": {
        "id": "9jYJ-NR31WNN"
      },
      "source": [
        "#### 6.  Create a null vector of size 10 but the fifth value which is 1 (★☆☆) \n",
        "(**hint**: array\\[4\\])"
      ]
    },
    {
      "cell_type": "code",
      "execution_count": 6,
      "metadata": {
        "id": "ZK4ujA271WNN",
        "colab": {
          "base_uri": "https://localhost:8080/"
        },
        "outputId": "e3671483-9b2f-4f7f-a8e4-b98d910d006e"
      },
      "outputs": [
        {
          "output_type": "execute_result",
          "data": {
            "text/plain": [
              "array([0, 0, 0, 0, 1, 0, 0, 0, 0, 0])"
            ]
          },
          "metadata": {},
          "execution_count": 6
        }
      ],
      "source": [
        "a = np.zeros(10,dtype=int)\n",
        "a[4]=1\n",
        "a"
      ]
    },
    {
      "cell_type": "markdown",
      "metadata": {
        "id": "NcB3DuKS1WNN"
      },
      "source": [
        "#### 7.  Create a vector with values ranging from 10 to 49 (★☆☆) \n",
        "(**hint**: np.arange)"
      ]
    },
    {
      "cell_type": "code",
      "execution_count": 8,
      "metadata": {
        "id": "3FoeMGf61WNO",
        "colab": {
          "base_uri": "https://localhost:8080/"
        },
        "outputId": "a13ae445-2dc0-49ad-a977-7e945b13f749"
      },
      "outputs": [
        {
          "output_type": "execute_result",
          "data": {
            "text/plain": [
              "array([10, 11, 12, 13, 14, 15, 16, 17, 18, 19, 20, 21, 22, 23, 24, 25, 26,\n",
              "       27, 28, 29, 30, 31, 32, 33, 34, 35, 36, 37, 38, 39, 40, 41, 42, 43,\n",
              "       44, 45, 46, 47, 48, 49])"
            ]
          },
          "metadata": {},
          "execution_count": 8
        }
      ],
      "source": [
        "a = np.arange(10,50)\n",
        "a"
      ]
    },
    {
      "cell_type": "markdown",
      "metadata": {
        "id": "Tq_0b0eN1WNO"
      },
      "source": [
        "#### 8.  Reverse a vector (first element becomes last) (★☆☆) \n",
        "(**hint**: array\\[::-1\\])"
      ]
    },
    {
      "cell_type": "code",
      "execution_count": 9,
      "metadata": {
        "id": "TDAGh_ca1WNP",
        "colab": {
          "base_uri": "https://localhost:8080/"
        },
        "outputId": "e0f8d879-cfc0-4403-d029-95464c8d6d5f"
      },
      "outputs": [
        {
          "output_type": "execute_result",
          "data": {
            "text/plain": [
              "array([49, 48, 47, 46, 45, 44, 43, 42, 41, 40, 39, 38, 37, 36, 35, 34, 33,\n",
              "       32, 31, 30, 29, 28, 27, 26, 25, 24, 23, 22, 21, 20, 19, 18, 17, 16,\n",
              "       15, 14, 13, 12, 11, 10])"
            ]
          },
          "metadata": {},
          "execution_count": 9
        }
      ],
      "source": [
        "b=a[::-1]\n",
        "b"
      ]
    },
    {
      "cell_type": "markdown",
      "metadata": {
        "id": "3rq0dtqO1WNP"
      },
      "source": [
        "#### 9.  Create a 3x3 matrix with values ranging from 0 to 8 (★☆☆) \n",
        "(**hint**: reshape)"
      ]
    },
    {
      "cell_type": "code",
      "execution_count": 10,
      "metadata": {
        "id": "yeu06n1B1WNP",
        "colab": {
          "base_uri": "https://localhost:8080/"
        },
        "outputId": "f2c81d7c-7d5c-4bec-e8b3-81eea711ddbc"
      },
      "outputs": [
        {
          "output_type": "execute_result",
          "data": {
            "text/plain": [
              "array([[0, 1, 2],\n",
              "       [3, 4, 5],\n",
              "       [6, 7, 8]])"
            ]
          },
          "metadata": {},
          "execution_count": 10
        }
      ],
      "source": [
        "a = np.arange(0,9)\n",
        "b = a.reshape((3,3))\n",
        "b"
      ]
    },
    {
      "cell_type": "markdown",
      "metadata": {
        "id": "BQfU_Q1y1WNP"
      },
      "source": [
        "#### 10. Find indices of non-zero elements from \\[1,2,0,0,4,0\\] (★☆☆) \n",
        "(**hint**: np.nonzero)"
      ]
    },
    {
      "cell_type": "code",
      "execution_count": 11,
      "metadata": {
        "id": "2eNG5FrS1WNQ",
        "colab": {
          "base_uri": "https://localhost:8080/"
        },
        "outputId": "c71ea044-02ad-4b79-8f3e-7c29508531d4"
      },
      "outputs": [
        {
          "output_type": "stream",
          "name": "stdout",
          "text": [
            "(array([0, 1, 4]),)\n"
          ]
        }
      ],
      "source": [
        "b = np.nonzero([1,2,0,0,4,0])\n",
        "print(b)"
      ]
    },
    {
      "cell_type": "markdown",
      "metadata": {
        "id": "2FF-lhid1WNQ"
      },
      "source": [
        "#### 11. Create a 3x3 identity matrix (★☆☆) \n",
        "(**hint**: np.eye)"
      ]
    },
    {
      "cell_type": "code",
      "execution_count": 12,
      "metadata": {
        "id": "OzCeBIX11WNQ",
        "colab": {
          "base_uri": "https://localhost:8080/"
        },
        "outputId": "a61b9245-8114-4650-e3e5-ce2d4a1d97fb"
      },
      "outputs": [
        {
          "output_type": "stream",
          "name": "stdout",
          "text": [
            "[[1. 0. 0.]\n",
            " [0. 1. 0.]\n",
            " [0. 0. 1.]]\n"
          ]
        }
      ],
      "source": [
        "a = np.eye(3)\n",
        "print(a)"
      ]
    },
    {
      "cell_type": "markdown",
      "metadata": {
        "id": "Es067AF-1WNQ"
      },
      "source": [
        "#### 12. Create a 3x3x3 array with random values (★☆☆) \n",
        "(**hint**: np.random.random)"
      ]
    },
    {
      "cell_type": "code",
      "execution_count": 13,
      "metadata": {
        "collapsed": true,
        "id": "FtRDf3l11WNQ",
        "colab": {
          "base_uri": "https://localhost:8080/"
        },
        "outputId": "f6c35ab0-ae75-44cc-b87b-444a254aa67c"
      },
      "outputs": [
        {
          "output_type": "stream",
          "name": "stdout",
          "text": [
            "[[[0.09705277 0.7261926  0.23462063]\n",
            "  [0.75936956 0.70616576 0.26288384]\n",
            "  [0.81627646 0.61824762 0.050645  ]]\n",
            "\n",
            " [[0.78836404 0.76767498 0.6356888 ]\n",
            "  [0.62823128 0.66637654 0.78555007]\n",
            "  [0.91886591 0.21502169 0.05814465]]\n",
            "\n",
            " [[0.58494395 0.17896416 0.62664501]\n",
            "  [0.9490465  0.91300387 0.7474603 ]\n",
            "  [0.39053939 0.9035041  0.23794735]]]\n"
          ]
        }
      ],
      "source": [
        "a = np.random.random((3,3,3))\n",
        "print(a)"
      ]
    },
    {
      "cell_type": "markdown",
      "metadata": {
        "id": "wnwp_UF-1WNR"
      },
      "source": [
        "#### 13. Create a 10x10 array with random values and find the minimum and maximum values (★☆☆) \n",
        "(**hint**: min, max)"
      ]
    },
    {
      "cell_type": "code",
      "execution_count": 14,
      "metadata": {
        "id": "8fkC7FmY1WNR",
        "colab": {
          "base_uri": "https://localhost:8080/"
        },
        "outputId": "2795a1a0-a514-4bf8-9182-a235dc336bfd"
      },
      "outputs": [
        {
          "output_type": "stream",
          "name": "stdout",
          "text": [
            "minimum =  0.004096821606749512\n",
            "maximum =  0.9760105135070107\n"
          ]
        }
      ],
      "source": [
        "a = np.random.random((10,10))\n",
        "print(\"minimum = \", a.min())\n",
        "print(\"maximum = \", a.max())"
      ]
    },
    {
      "cell_type": "markdown",
      "metadata": {
        "id": "Eyyp20QA1WNR"
      },
      "source": [
        "#### 14. Create a random vector of size 30 and find the mean value (★☆☆) \n",
        "(**hint**: mean)"
      ]
    },
    {
      "cell_type": "code",
      "execution_count": 15,
      "metadata": {
        "id": "rLAs9jZV1WNR",
        "colab": {
          "base_uri": "https://localhost:8080/"
        },
        "outputId": "b1ca39f0-e8bc-489c-84b6-34394e01b516"
      },
      "outputs": [
        {
          "output_type": "stream",
          "name": "stdout",
          "text": [
            "0.5397659208967884\n"
          ]
        }
      ],
      "source": [
        "a = np.random.random(30)\n",
        "m = a.mean()\n",
        "print(m)"
      ]
    },
    {
      "cell_type": "markdown",
      "metadata": {
        "id": "mWlpbHwR1WNR"
      },
      "source": [
        "#### 15. Create a 2d array with 1 on the border and 0 inside (★☆☆) \n",
        "(**hint**: array\\[1:-1, 1:-1\\])"
      ]
    },
    {
      "cell_type": "code",
      "execution_count": 16,
      "metadata": {
        "id": "OdHWgiar1WNS",
        "colab": {
          "base_uri": "https://localhost:8080/"
        },
        "outputId": "f8611727-92f8-4dcb-8073-9ce2d436ef2b"
      },
      "outputs": [
        {
          "output_type": "stream",
          "name": "stdout",
          "text": [
            "[[1 0 1]\n",
            " [1 0 1]]\n",
            "\n",
            "\n",
            "[[1 1 1]\n",
            " [1 0 1]\n",
            " [1 1 1]]\n",
            "\n",
            "\n",
            "[[1. 1. 1. 1. 1.]\n",
            " [1. 0. 0. 0. 1.]\n",
            " [1. 0. 0. 0. 1.]\n",
            " [1. 0. 0. 0. 1.]\n",
            " [1. 1. 1. 1. 1.]]\n"
          ]
        }
      ],
      "source": [
        "a = np.array([[1,0,1], [1,0,1]])\n",
        "print(a)\n",
        "print(\"\\n\")\n",
        "b = np.array([[1,1,1], [1,0,1], [1,1,1]])\n",
        "print(b)\n",
        "print(\"\\n\")\n",
        "c=np.ones((5,5))\n",
        "c[1:-1,1:-1]=0\n",
        "print(c)"
      ]
    },
    {
      "cell_type": "markdown",
      "metadata": {
        "id": "1DWVmvIi1WNS"
      },
      "source": [
        "#### 16. How to add a border (filled with 0's) around an existing array? (★☆☆) \n",
        "(**hint**: np.pad)"
      ]
    },
    {
      "cell_type": "code",
      "execution_count": 17,
      "metadata": {
        "id": "hmc6d8--1WNS",
        "colab": {
          "base_uri": "https://localhost:8080/"
        },
        "outputId": "1f113e89-2704-4932-956e-26fbb1deaee1"
      },
      "outputs": [
        {
          "output_type": "execute_result",
          "data": {
            "text/plain": [
              "array([0., 1., 1., 1., 0.])"
            ]
          },
          "metadata": {},
          "execution_count": 17
        }
      ],
      "source": [
        "x = np.ones(3)\n",
        "y = np.pad(x, pad_width=1)\n",
        "y"
      ]
    },
    {
      "cell_type": "code",
      "source": [
        "x=np.array([[1,2,3],[4,5,6],[7,8,9]])\n",
        "y = np.pad(x, pad_width=1)\n",
        "y"
      ],
      "metadata": {
        "colab": {
          "base_uri": "https://localhost:8080/"
        },
        "id": "IpuMWFir55QQ",
        "outputId": "10bef119-8ce0-49e8-dee5-109010ebe3ee"
      },
      "execution_count": 18,
      "outputs": [
        {
          "output_type": "execute_result",
          "data": {
            "text/plain": [
              "array([[0, 0, 0, 0, 0],\n",
              "       [0, 1, 2, 3, 0],\n",
              "       [0, 4, 5, 6, 0],\n",
              "       [0, 7, 8, 9, 0],\n",
              "       [0, 0, 0, 0, 0]])"
            ]
          },
          "metadata": {},
          "execution_count": 18
        }
      ]
    },
    {
      "cell_type": "markdown",
      "metadata": {
        "id": "YoRQ35VL1WNS"
      },
      "source": [
        "#### 17. What is the result of the following expression? (★☆☆) \n",
        "(**hint**: NaN = not a number, inf = infinity)"
      ]
    },
    {
      "cell_type": "markdown",
      "metadata": {
        "id": "mSHwcXLm1WNS"
      },
      "source": [
        "```python\n",
        "0 * np.nan\n",
        "np.nan == np.nan\n",
        "np.inf > np.nan\n",
        "np.nan - np.nan\n",
        "0.3 == 3 * 0.1\n",
        "```"
      ]
    },
    {
      "cell_type": "code",
      "execution_count": 19,
      "metadata": {
        "id": "XJlbODMG1WNT",
        "colab": {
          "base_uri": "https://localhost:8080/"
        },
        "outputId": "4cae83c2-51e0-42c6-e7e2-9beb06252dfb"
      },
      "outputs": [
        {
          "output_type": "stream",
          "name": "stdout",
          "text": [
            "nan\n",
            "False\n",
            "False\n",
            "nan\n",
            "False\n"
          ]
        }
      ],
      "source": [
        "print(0 * np.nan)\n",
        "print(np.nan == np.nan)\n",
        "print(np.inf > np.nan)\n",
        "print(np.nan - np.nan)\n",
        "print(0.3 == 3 * 0.1)"
      ]
    },
    {
      "cell_type": "markdown",
      "metadata": {
        "id": "WMetv-KQ1WNT"
      },
      "source": [
        "#### 18. Create a 5x5 matrix with values 1,2,3,4 just below the diagonal (★☆☆) \n",
        "(**hint**: np.diag)"
      ]
    },
    {
      "cell_type": "code",
      "execution_count": 20,
      "metadata": {
        "id": "K1xVuLJf1WNT",
        "colab": {
          "base_uri": "https://localhost:8080/"
        },
        "outputId": "ca14e4ac-7953-44a9-d293-c829c8ee4645"
      },
      "outputs": [
        {
          "output_type": "execute_result",
          "data": {
            "text/plain": [
              "array([[0, 0, 0, 0, 0],\n",
              "       [1, 0, 0, 0, 0],\n",
              "       [0, 2, 0, 0, 0],\n",
              "       [0, 0, 3, 0, 0],\n",
              "       [0, 0, 0, 4, 0]])"
            ]
          },
          "metadata": {},
          "execution_count": 20
        }
      ],
      "source": [
        "a = np.diag([1,2,3,4],k=-1)\n",
        "a"
      ]
    },
    {
      "cell_type": "markdown",
      "metadata": {
        "id": "YzCk1kna1WNT"
      },
      "source": [
        "#### 19. Create a 8x8 matrix and fill it with a checkerboard pattern (★☆☆) \n",
        "(**hint**: array\\[::2\\])"
      ]
    },
    {
      "cell_type": "code",
      "execution_count": 21,
      "metadata": {
        "id": "OYsNRJwm1WNT",
        "colab": {
          "base_uri": "https://localhost:8080/"
        },
        "outputId": "d2cb3dad-7053-4927-c775-0ad2ceb8f1b5"
      },
      "outputs": [
        {
          "output_type": "execute_result",
          "data": {
            "text/plain": [
              "array([[0., 1., 0., 1., 0., 1., 0., 1.],\n",
              "       [1., 0., 1., 0., 1., 0., 1., 0.],\n",
              "       [0., 1., 0., 1., 0., 1., 0., 1.],\n",
              "       [1., 0., 1., 0., 1., 0., 1., 0.],\n",
              "       [0., 1., 0., 1., 0., 1., 0., 1.],\n",
              "       [1., 0., 1., 0., 1., 0., 1., 0.],\n",
              "       [0., 1., 0., 1., 0., 1., 0., 1.],\n",
              "       [1., 0., 1., 0., 1., 0., 1., 0.]])"
            ]
          },
          "metadata": {},
          "execution_count": 21
        }
      ],
      "source": [
        "a = np.zeros((8,8))\n",
        "a[::2,1::2] = 1\n",
        "a[1::2,::2] = 1\n",
        "a"
      ]
    },
    {
      "cell_type": "markdown",
      "metadata": {
        "id": "Urb7PET01WNT"
      },
      "source": [
        "#### 20. Consider a (6,7,8) shape array, what is the index (x,y,z) of the 100th element? \n",
        "(**hint**: np.unravel_index)"
      ]
    },
    {
      "cell_type": "code",
      "execution_count": 22,
      "metadata": {
        "id": "mT-33ZST1WNU",
        "colab": {
          "base_uri": "https://localhost:8080/"
        },
        "outputId": "e8ddbebf-4e43-44b2-b963-d6a580cc3095"
      },
      "outputs": [
        {
          "output_type": "execute_result",
          "data": {
            "text/plain": [
              "(5, 6, 7)"
            ]
          },
          "metadata": {},
          "execution_count": 22
        }
      ],
      "source": [
        "a = np.arange(336).reshape(6,7,8)\n",
        "np.unravel_index(335,(6,7,8))"
      ]
    },
    {
      "cell_type": "markdown",
      "metadata": {
        "id": "0dxQeOag1WNU"
      },
      "source": [
        "#### 21. Create a checkerboard 8x8 matrix using the tile function (★☆☆) \n",
        "(**hint**: np.tile)"
      ]
    },
    {
      "cell_type": "code",
      "execution_count": 23,
      "metadata": {
        "id": "1UbDV2cn1WNU",
        "colab": {
          "base_uri": "https://localhost:8080/"
        },
        "outputId": "9e19bee0-0345-42b5-d9c7-3cf401a45425"
      },
      "outputs": [
        {
          "output_type": "execute_result",
          "data": {
            "text/plain": [
              "array([[0, 1, 0, 1, 0, 1, 0, 1],\n",
              "       [1, 0, 1, 0, 1, 0, 1, 0],\n",
              "       [0, 1, 0, 1, 0, 1, 0, 1],\n",
              "       [1, 0, 1, 0, 1, 0, 1, 0],\n",
              "       [0, 1, 0, 1, 0, 1, 0, 1],\n",
              "       [1, 0, 1, 0, 1, 0, 1, 0],\n",
              "       [0, 1, 0, 1, 0, 1, 0, 1],\n",
              "       [1, 0, 1, 0, 1, 0, 1, 0]])"
            ]
          },
          "metadata": {},
          "execution_count": 23
        }
      ],
      "source": [
        "np.tile( np.array([[0,1],[1,0]]), (4,4))\n"
      ]
    },
    {
      "cell_type": "markdown",
      "metadata": {
        "id": "9pdfKp-z1WNU"
      },
      "source": [
        "#### 22. Normalize a 5x5 random matrix (★☆☆) \n",
        "(**hint**: (x - min) / (max - min))"
      ]
    },
    {
      "cell_type": "code",
      "execution_count": 24,
      "metadata": {
        "id": "8pBxWTkF1WNV",
        "colab": {
          "base_uri": "https://localhost:8080/"
        },
        "outputId": "5527818a-8749-498f-f7b0-a861e0d45503"
      },
      "outputs": [
        {
          "output_type": "execute_result",
          "data": {
            "text/plain": [
              "array([[0.2755828 , 0.50218885, 0.85734749, 0.68444581, 0.7610446 ],\n",
              "       [1.        , 0.13782853, 0.34475908, 0.31070172, 0.86187667],\n",
              "       [0.79756536, 0.14810343, 0.96681993, 0.15843427, 0.        ],\n",
              "       [0.16646747, 0.83325445, 0.76124462, 0.7700914 , 0.47599906],\n",
              "       [0.05481548, 0.94505596, 0.94198333, 0.46101015, 0.80080197]])"
            ]
          },
          "metadata": {},
          "execution_count": 24
        }
      ],
      "source": [
        "a = np.random.random((5,5))\n",
        "a_max = a.max()\n",
        "a_min = a.min()\n",
        "diff = a_max - a_min\n",
        "a = (a-a_min)/(a_max-a_min)\n",
        "a"
      ]
    },
    {
      "cell_type": "markdown",
      "metadata": {
        "id": "tXo9BiHt1WNV"
      },
      "source": [
        "#### 23. Create a custom dtype that describes a color as four unsigned bytes (RGBA) (★☆☆) \n",
        "(**hint**: np.dtype)"
      ]
    },
    {
      "cell_type": "code",
      "execution_count": 25,
      "metadata": {
        "collapsed": true,
        "id": "paPwIE7G1WNV",
        "colab": {
          "base_uri": "https://localhost:8080/"
        },
        "outputId": "0e8327f7-b7fc-453c-9c5c-183c732e480f"
      },
      "outputs": [
        {
          "output_type": "execute_result",
          "data": {
            "text/plain": [
              "dtype([('r', 'u1'), ('g', 'u1'), ('b', 'u1'), ('a', 'u1')])"
            ]
          },
          "metadata": {},
          "execution_count": 25
        }
      ],
      "source": [
        "color = np.dtype([(\"r\", np.ubyte),\n",
        "                  (\"g\", np.ubyte),\n",
        "                  (\"b\", np.ubyte),\n",
        "                  (\"a\", np.ubyte)])\n",
        "color"
      ]
    },
    {
      "cell_type": "markdown",
      "metadata": {
        "id": "KuqUb_Fr1WNV"
      },
      "source": [
        "#### 24. Multiply a 5x3 matrix by a 3x2 matrix (real matrix product) (★☆☆) \n",
        "(**hint**: np.dot | @)"
      ]
    },
    {
      "cell_type": "code",
      "execution_count": 26,
      "metadata": {
        "id": "d40Lmzm31WNV",
        "colab": {
          "base_uri": "https://localhost:8080/"
        },
        "outputId": "a982d546-f1ad-410c-e9e8-10862af07b63"
      },
      "outputs": [
        {
          "output_type": "stream",
          "name": "stdout",
          "text": [
            "[[ 0  1  2]\n",
            " [ 3  4  5]\n",
            " [ 6  7  8]\n",
            " [ 9 10 11]\n",
            " [12 13 14]] [[0 1]\n",
            " [2 3]\n",
            " [4 5]] [[ 10  13]\n",
            " [ 28  40]\n",
            " [ 46  67]\n",
            " [ 64  94]\n",
            " [ 82 121]]\n"
          ]
        }
      ],
      "source": [
        "a = np.arange(15).reshape(5,3)\n",
        "b = np.arange(6).reshape(3,2)\n",
        "c = np.dot(a,b)\n",
        "print(a,b,c)"
      ]
    },
    {
      "cell_type": "markdown",
      "metadata": {
        "id": "qELMv7ZN1WNV"
      },
      "source": [
        "#### 25. Given a 1D array, negate all elements which are between 3 and 8, in place. (★☆☆) \n",
        "(**hint**: >, <=)"
      ]
    },
    {
      "cell_type": "code",
      "execution_count": 27,
      "metadata": {
        "id": "7Mr-NvN31WNV",
        "colab": {
          "base_uri": "https://localhost:8080/"
        },
        "outputId": "d2e3b18f-b2dd-4c68-e6fd-103e45eb1523"
      },
      "outputs": [
        {
          "output_type": "stream",
          "name": "stdout",
          "text": [
            "[ 0  1  2  3 -4 -5 -6 -7 -8  9 10 11 12 13 14 15 16 17 18 19]\n"
          ]
        }
      ],
      "source": [
        "a = np.arange(20)\n",
        "a[(3 < a) & (a <= 8)] *= -1\n",
        "print(a)"
      ]
    },
    {
      "cell_type": "markdown",
      "metadata": {
        "id": "4qWaAGja1WNW"
      },
      "source": [
        "#### 26. What is the output of the following script? (★☆☆) \n",
        "(**hint**: np.sum)"
      ]
    },
    {
      "cell_type": "markdown",
      "metadata": {
        "id": "F36-6TWl1WNW"
      },
      "source": [
        "```python\n",
        "# Author: Jake VanderPlas\n",
        "\n",
        "print(sum(range(5),-1))\n",
        "from numpy import *\n",
        "print(sum(range(5),-1))\n",
        "```"
      ]
    },
    {
      "cell_type": "code",
      "execution_count": 28,
      "metadata": {
        "id": "hx9dHvnh1WNW",
        "colab": {
          "base_uri": "https://localhost:8080/"
        },
        "outputId": "a3a36b4c-e1b1-462a-ef00-305d84f0f9db"
      },
      "outputs": [
        {
          "output_type": "execute_result",
          "data": {
            "text/plain": [
              "10"
            ]
          },
          "metadata": {},
          "execution_count": 28
        }
      ],
      "source": [
        "9\n",
        "10"
      ]
    },
    {
      "cell_type": "markdown",
      "metadata": {
        "id": "ygF_3E7v1WNW"
      },
      "source": [
        "#### 27. Consider an integer vector Z, which of these expressions are legal? (★☆☆)"
      ]
    },
    {
      "cell_type": "markdown",
      "metadata": {
        "id": "BmD1yyW51WNW"
      },
      "source": [
        "```python\n",
        "Z**Z\n",
        "2 << Z >> 2\n",
        "Z <- Z\n",
        "1j*Z\n",
        "Z/1/1\n",
        "Z<Z>Z\n",
        "```"
      ]
    },
    {
      "cell_type": "code",
      "execution_count": 29,
      "metadata": {
        "id": "6-4crSCW1WNW",
        "colab": {
          "base_uri": "https://localhost:8080/",
          "height": 246
        },
        "outputId": "71f28b88-9830-492f-9309-a7f3ca07501d"
      },
      "outputs": [
        {
          "output_type": "error",
          "ename": "NameError",
          "evalue": "ignored",
          "traceback": [
            "\u001b[0;31m---------------------------------------------------------------------------\u001b[0m",
            "\u001b[0;31mNameError\u001b[0m                                 Traceback (most recent call last)",
            "\u001b[0;32m<ipython-input-29-4e3654d03fce>\u001b[0m in \u001b[0;36m<module>\u001b[0;34m\u001b[0m\n\u001b[0;32m----> 1\u001b[0;31m \u001b[0mZ\u001b[0m\u001b[0;34m**\u001b[0m\u001b[0mZ\u001b[0m\u001b[0;34m\u001b[0m\u001b[0;34m\u001b[0m\u001b[0m\n\u001b[0m\u001b[1;32m      2\u001b[0m \u001b[0;36m2\u001b[0m \u001b[0;34m<<\u001b[0m \u001b[0mZ\u001b[0m \u001b[0;34m>>\u001b[0m \u001b[0;36m2\u001b[0m\u001b[0;34m\u001b[0m\u001b[0;34m\u001b[0m\u001b[0m\n\u001b[1;32m      3\u001b[0m \u001b[0mZ\u001b[0m \u001b[0;34m<\u001b[0m\u001b[0;34m-\u001b[0m \u001b[0mZ\u001b[0m\u001b[0;34m\u001b[0m\u001b[0;34m\u001b[0m\u001b[0m\n\u001b[1;32m      4\u001b[0m \u001b[0;36m1j\u001b[0m\u001b[0;34m*\u001b[0m\u001b[0mZ\u001b[0m\u001b[0;34m\u001b[0m\u001b[0;34m\u001b[0m\u001b[0m\n\u001b[1;32m      5\u001b[0m \u001b[0mZ\u001b[0m\u001b[0;34m/\u001b[0m\u001b[0;36m1\u001b[0m\u001b[0;34m/\u001b[0m\u001b[0;36m1\u001b[0m\u001b[0;34m\u001b[0m\u001b[0;34m\u001b[0m\u001b[0m\n",
            "\u001b[0;31mNameError\u001b[0m: name 'Z' is not defined"
          ]
        }
      ],
      "source": [
        "Z**Z\n",
        "2 << Z >> 2\n",
        "Z <- Z\n",
        "1j*Z\n",
        "Z/1/1\n",
        "Z<Z>Z"
      ]
    },
    {
      "cell_type": "markdown",
      "metadata": {
        "id": "9oWQ1THS1WNW"
      },
      "source": [
        "#### 28. What are the result of the following expressions?"
      ]
    },
    {
      "cell_type": "markdown",
      "metadata": {
        "id": "S3sDIegk1WNX"
      },
      "source": [
        "```python\n",
        "np.array(0) / np.array(0)\n",
        "np.array(0) // np.array(0)\n",
        "np.array([np.nan]).astype(int).astype(float)\n",
        "```"
      ]
    },
    {
      "cell_type": "code",
      "execution_count": 30,
      "metadata": {
        "id": "RZbJ_S041WNX",
        "colab": {
          "base_uri": "https://localhost:8080/"
        },
        "outputId": "7b0e0f1b-8fe4-4f60-c429-8585490f2ee1"
      },
      "outputs": [
        {
          "output_type": "stream",
          "name": "stdout",
          "text": [
            "nan\n",
            "0\n",
            "[-9.22337204e+18]\n"
          ]
        },
        {
          "output_type": "stream",
          "name": "stderr",
          "text": [
            "<ipython-input-30-2a10de0ee61b>:1: RuntimeWarning: invalid value encountered in true_divide\n",
            "  print(np.array(0) / np.array(0))\n",
            "<ipython-input-30-2a10de0ee61b>:2: RuntimeWarning: divide by zero encountered in floor_divide\n",
            "  print(np.array(0) // np.array(0))\n"
          ]
        }
      ],
      "source": [
        "print(np.array(0) / np.array(0))\n",
        "print(np.array(0) // np.array(0))\n",
        "print(np.array([np.nan]).astype(int).astype(float))"
      ]
    },
    {
      "cell_type": "markdown",
      "metadata": {
        "id": "WAqVxl781WNX"
      },
      "source": [
        "#### 29. How to round away from zero a float array ? (★☆☆) \n",
        "(**hint**: np.uniform, np.copysign, np.ceil, np.abs)"
      ]
    },
    {
      "cell_type": "code",
      "execution_count": 32,
      "metadata": {
        "id": "lPJRfJIg1WNX",
        "colab": {
          "base_uri": "https://localhost:8080/"
        },
        "outputId": "b3ae13b3-9086-45c9-89bc-2324e6a2e9d5"
      },
      "outputs": [
        {
          "output_type": "stream",
          "name": "stdout",
          "text": [
            "[ 7. -5.  5. -3.  4.  9. -1.  4.  8.  9.]\n"
          ]
        }
      ],
      "source": [
        "a = np.random.uniform(-10,+10,10)\n",
        "print (np.copysign(np.ceil(np.abs(a)), a))"
      ]
    },
    {
      "cell_type": "markdown",
      "metadata": {
        "id": "OzplhDjF1WNX"
      },
      "source": [
        "#### 30. How to find common values between two arrays? (★☆☆) \n",
        "(**hint**: np.intersect1d)"
      ]
    },
    {
      "cell_type": "code",
      "execution_count": 33,
      "metadata": {
        "id": "0cUWemYW1WNX",
        "colab": {
          "base_uri": "https://localhost:8080/"
        },
        "outputId": "d20fdb09-1c11-4c5f-d7dc-d7568dc6d103"
      },
      "outputs": [
        {
          "output_type": "execute_result",
          "data": {
            "text/plain": [
              "(array([1, 7, 6, 4, 7, 3, 5, 9, 2, 5]),\n",
              " array([1, 1, 1, 5, 2, 5, 5, 3, 7, 1]),\n",
              " array([1, 2, 3, 5, 7]))"
            ]
          },
          "metadata": {},
          "execution_count": 33
        }
      ],
      "source": [
        "a = np.random.randint(1,10,10)\n",
        "b = np.random.randint(1,10,10)\n",
        "a,b,np.intersect1d(a,b)"
      ]
    },
    {
      "cell_type": "markdown",
      "metadata": {
        "id": "RiVP6IUC1WNX"
      },
      "source": [
        "#### 31. How to ignore all numpy warnings (not recommended)? (★☆☆) \n",
        "(**hint**: np.seterr, np.errstate)"
      ]
    },
    {
      "cell_type": "code",
      "execution_count": 34,
      "metadata": {
        "id": "-5yV0BuN1WNX",
        "colab": {
          "base_uri": "https://localhost:8080/"
        },
        "outputId": "83da17c9-6bf7-47f7-cb67-c9b19d50527f"
      },
      "outputs": [
        {
          "output_type": "stream",
          "name": "stdout",
          "text": [
            "[inf]\n"
          ]
        }
      ],
      "source": [
        "defaults = np.seterr(all=\"ignore\")\n",
        "Z = np.ones(1) / 0\n",
        "print(Z)\n",
        "_ = np.seterr(**defaults)\n",
        "with np.errstate(all=\"ignore\"):\n",
        "    np.arange(3) / 0"
      ]
    },
    {
      "cell_type": "markdown",
      "metadata": {
        "id": "VJVNmH2t1WNY"
      },
      "source": [
        "#### 32. Is the following expressions true? (★☆☆) \n",
        "(**hint**: imaginary number)"
      ]
    },
    {
      "cell_type": "markdown",
      "metadata": {
        "id": "-kVHWlMU1WNY"
      },
      "source": [
        "```python\n",
        "np.sqrt(-1) == np.emath.sqrt(-1)\n",
        "```"
      ]
    },
    {
      "cell_type": "code",
      "execution_count": 35,
      "metadata": {
        "id": "i0hoMJUJ1WNY",
        "colab": {
          "base_uri": "https://localhost:8080/"
        },
        "outputId": "06f22bab-95c8-4594-8d6d-f86023673027"
      },
      "outputs": [
        {
          "output_type": "execute_result",
          "data": {
            "text/plain": [
              "False"
            ]
          },
          "metadata": {},
          "execution_count": 35
        }
      ],
      "source": [
        "False"
      ]
    },
    {
      "cell_type": "markdown",
      "metadata": {
        "id": "6nc2sIaf1WNY"
      },
      "source": [
        "#### 33. How to get the dates of yesterday, today and tomorrow? (★☆☆) \n",
        "(**hint**: np.datetime64, np.timedelta64)"
      ]
    },
    {
      "cell_type": "code",
      "execution_count": 36,
      "metadata": {
        "collapsed": true,
        "id": "XjCv4JrX1WNY",
        "colab": {
          "base_uri": "https://localhost:8080/"
        },
        "outputId": "e186dba9-6b38-4a23-a9a1-69d5fa90c7ef"
      },
      "outputs": [
        {
          "output_type": "execute_result",
          "data": {
            "text/plain": [
              "(numpy.datetime64('2023-01-16'),\n",
              " numpy.datetime64('2023-01-15'),\n",
              " numpy.datetime64('2023-01-17'))"
            ]
          },
          "metadata": {},
          "execution_count": 36
        }
      ],
      "source": [
        "today = np.datetime64(\"today\",'D')\n",
        "tomorrow = today + np.timedelta64(1,\"D\")\n",
        "yesterday = today - np.timedelta64(1,\"D\")\n",
        "today, yesterday, tomorrow"
      ]
    },
    {
      "cell_type": "markdown",
      "metadata": {
        "id": "itkqHZp31WNY"
      },
      "source": [
        "#### 34. How to get all the dates corresponding to the month of July 2016? (★★☆) \n",
        "(**hint**: np.arange(dtype=datetime64\\['D'\\]))"
      ]
    },
    {
      "cell_type": "code",
      "execution_count": 37,
      "metadata": {
        "id": "A4nfsScc1WNY",
        "colab": {
          "base_uri": "https://localhost:8080/"
        },
        "outputId": "44743dc4-f638-4711-b836-8811d730d830"
      },
      "outputs": [
        {
          "output_type": "execute_result",
          "data": {
            "text/plain": [
              "array(['2016-07-01', '2016-07-02', '2016-07-03', '2016-07-04',\n",
              "       '2016-07-05', '2016-07-06', '2016-07-07', '2016-07-08',\n",
              "       '2016-07-09', '2016-07-10', '2016-07-11', '2016-07-12',\n",
              "       '2016-07-13', '2016-07-14', '2016-07-15', '2016-07-16',\n",
              "       '2016-07-17', '2016-07-18', '2016-07-19', '2016-07-20',\n",
              "       '2016-07-21', '2016-07-22', '2016-07-23', '2016-07-24',\n",
              "       '2016-07-25', '2016-07-26', '2016-07-27', '2016-07-28',\n",
              "       '2016-07-29', '2016-07-30', '2016-07-31'], dtype='datetime64[D]')"
            ]
          },
          "metadata": {},
          "execution_count": 37
        }
      ],
      "source": [
        "d1 = np.arange('2016-07','2016-08', dtype=\"datetime64[D]\")\n",
        "d1"
      ]
    },
    {
      "cell_type": "markdown",
      "metadata": {
        "id": "MBX2ybIp1WNY"
      },
      "source": [
        "#### 35. How to compute ((A+B)\\*(-A/2)) in place (without copy)? (★★☆) \n",
        "(**hint**: np.add(out=), np.negative(out=), np.multiply(out=), np.divide(out=))"
      ]
    },
    {
      "cell_type": "code",
      "execution_count": 38,
      "metadata": {
        "id": "BuHvM40W1WNZ",
        "colab": {
          "base_uri": "https://localhost:8080/"
        },
        "outputId": "3a133997-e570-4f56-f251-7e7499b90724"
      },
      "outputs": [
        {
          "output_type": "stream",
          "name": "stdout",
          "text": [
            "[ -1.5  -6.  -13.5]\n"
          ]
        }
      ],
      "source": [
        "A = np.arange(1,4, dtype=float)\n",
        "B = np.arange(1,4, dtype=float) * 2\n",
        "C = np.arange(1,4, dtype=float) * 3\n",
        "np.add(A,B,out=B)\n",
        "np.divide(A,2,out=A)\n",
        "np.negative(A,out=A)\n",
        "np.multiply(A,B,out=A)\n",
        "print(A)"
      ]
    },
    {
      "cell_type": "markdown",
      "metadata": {
        "id": "u3gx4DII1WNZ"
      },
      "source": [
        "#### 36. Extract the integer part of a random array using 5 different methods (★★☆) \n",
        "(**hint**: %, np.floor, np.ceil, astype, np.trunc)"
      ]
    },
    {
      "cell_type": "code",
      "execution_count": 39,
      "metadata": {
        "id": "rqh7zOD01WNZ",
        "colab": {
          "base_uri": "https://localhost:8080/"
        },
        "outputId": "963281a8-5551-4a42-ba21-d3bcf1b4b9d2"
      },
      "outputs": [
        {
          "output_type": "execute_result",
          "data": {
            "text/plain": [
              "(array([230.14957725, -35.16567296,   2.02631609, -30.06281563,\n",
              "         62.73569004]),\n",
              " array([230., -35.,   2., -30.,  62.]),\n",
              " array([230., -35.,   2., -30.,  63.]),\n",
              " array([230., -36.,   2., -31.,  62.]),\n",
              " array([231., -35.,   3., -30.,  63.]),\n",
              " array([230, -35,   2, -30,  62]))"
            ]
          },
          "metadata": {},
          "execution_count": 39
        }
      ],
      "source": [
        "i = 70*np.random.randn(5)\n",
        "j = np.trunc(i)\n",
        "k = np.around(i)\n",
        "l = np.floor(i)\n",
        "m = np.ceil(i)\n",
        "n = i.astype(int)\n",
        "i,j,k,l,m,n"
      ]
    },
    {
      "cell_type": "markdown",
      "metadata": {
        "id": "Bea1II_u1WNZ"
      },
      "source": [
        "#### 37. Create a 5x5 matrix with row values ranging from 0 to 4 (★★☆) \n",
        "(**hint**: np.arange)"
      ]
    },
    {
      "cell_type": "code",
      "execution_count": 40,
      "metadata": {
        "id": "O2ojUbm01WNZ",
        "colab": {
          "base_uri": "https://localhost:8080/"
        },
        "outputId": "7d2b7c69-4912-4d7e-c12e-1f728823b1ad"
      },
      "outputs": [
        {
          "output_type": "execute_result",
          "data": {
            "text/plain": [
              "array([[1., 2., 3., 4., 5.],\n",
              "       [1., 2., 3., 4., 5.],\n",
              "       [1., 2., 3., 4., 5.],\n",
              "       [1., 2., 3., 4., 5.],\n",
              "       [1., 2., 3., 4., 5.]])"
            ]
          },
          "metadata": {},
          "execution_count": 40
        }
      ],
      "source": [
        "a = np.ones((5,5)) + np.arange(5)\n",
        "a"
      ]
    },
    {
      "cell_type": "markdown",
      "metadata": {
        "id": "7jQlRDV91WNZ"
      },
      "source": [
        "#### 38. Consider a generator function that generates 10 integers and use it to build an array (★☆☆) \n",
        "(**hint**: np.fromiter)"
      ]
    },
    {
      "cell_type": "code",
      "execution_count": 41,
      "metadata": {
        "id": "B4VKb2zA1WNZ",
        "colab": {
          "base_uri": "https://localhost:8080/"
        },
        "outputId": "702b5f36-35f2-44b3-9589-93753be1b227"
      },
      "outputs": [
        {
          "output_type": "stream",
          "name": "stdout",
          "text": [
            "[0 1 2 3 4 5 6 7 8 9]\n"
          ]
        }
      ],
      "source": [
        "def generate():\n",
        "    for x in range(10):\n",
        "        yield x\n",
        "a = np.fromiter(generate(),dtype=int,count=-1)\n",
        "print(a)"
      ]
    },
    {
      "cell_type": "markdown",
      "metadata": {
        "id": "DYfX5jWn1WNa"
      },
      "source": [
        "#### 39. Create a vector of size 10 with values ranging from 0 to 1, both excluded (★★☆) \n",
        "(**hint**: np.linspace)"
      ]
    },
    {
      "cell_type": "code",
      "execution_count": 42,
      "metadata": {
        "id": "7cE037LS1WNa",
        "colab": {
          "base_uri": "https://localhost:8080/"
        },
        "outputId": "55268c4b-3042-408e-c219-d6f1838c547e"
      },
      "outputs": [
        {
          "output_type": "execute_result",
          "data": {
            "text/plain": [
              "array([0.09090909, 0.18181818, 0.27272727, 0.36363636, 0.45454545,\n",
              "       0.54545455, 0.63636364, 0.72727273, 0.81818182, 0.90909091])"
            ]
          },
          "metadata": {},
          "execution_count": 42
        }
      ],
      "source": [
        "a = np.linspace(0,1,11,endpoint=False)[1:]\n",
        "a"
      ]
    },
    {
      "cell_type": "markdown",
      "metadata": {
        "id": "ojku62q81WNa"
      },
      "source": [
        "#### 40. Create a random vector of size 10 and sort it (★★☆) \n",
        "(**hint**: sort)"
      ]
    },
    {
      "cell_type": "code",
      "execution_count": 43,
      "metadata": {
        "id": "X_1k8-HT1WNa",
        "colab": {
          "base_uri": "https://localhost:8080/"
        },
        "outputId": "8d698bb8-395d-42dc-97cb-2b9bf7859328"
      },
      "outputs": [
        {
          "output_type": "execute_result",
          "data": {
            "text/plain": [
              "array([0.02349494, 0.03254412, 0.10983342, 0.32579319, 0.34509725,\n",
              "       0.36285736, 0.47490303, 0.51152831, 0.8917186 , 0.94471761])"
            ]
          },
          "metadata": {},
          "execution_count": 43
        }
      ],
      "source": [
        "x=np.random.random(10)\n",
        "x.sort()\n",
        "x"
      ]
    },
    {
      "cell_type": "markdown",
      "metadata": {
        "id": "ztK65i741WNa"
      },
      "source": [
        "#### 41. How to sum a small array faster than np.sum? (★★☆) \n",
        "(**hint**: np.add.reduce)"
      ]
    },
    {
      "cell_type": "code",
      "execution_count": 44,
      "metadata": {
        "id": "xc5YHrKp1WNa",
        "colab": {
          "base_uri": "https://localhost:8080/"
        },
        "outputId": "73aa8b0c-5b0c-4c03-a337-b81e5100c5fa"
      },
      "outputs": [
        {
          "output_type": "execute_result",
          "data": {
            "text/plain": [
              "45"
            ]
          },
          "metadata": {},
          "execution_count": 44
        }
      ],
      "source": [
        "a = np.arange(10)\n",
        "np.add.reduce(a)"
      ]
    },
    {
      "cell_type": "markdown",
      "metadata": {
        "id": "GxXM9mNm1WNa"
      },
      "source": [
        "#### 42. Consider two random array A and B, check if they are equal (★★☆) \n",
        "(**hint**: np.allclose, np.array\\_equal)"
      ]
    },
    {
      "cell_type": "code",
      "execution_count": 45,
      "metadata": {
        "id": "jZbUTe3j1WNa",
        "colab": {
          "base_uri": "https://localhost:8080/"
        },
        "outputId": "bbeb82ac-dcef-407e-ca86-34f7acbeb138"
      },
      "outputs": [
        {
          "output_type": "execute_result",
          "data": {
            "text/plain": [
              "True"
            ]
          },
          "metadata": {},
          "execution_count": 45
        }
      ],
      "source": [
        "a = np.arange(4)\n",
        "b = np.arange(4)\n",
        "np.array_equal(a,b)"
      ]
    },
    {
      "cell_type": "markdown",
      "metadata": {
        "id": "qoleomNZ1WNb"
      },
      "source": [
        "#### 43. Make an array immutable (read-only) (★★☆) \n",
        "(**hint**: flags.writeable)"
      ]
    },
    {
      "cell_type": "code",
      "execution_count": 46,
      "metadata": {
        "id": "lq8us82Q1WNb",
        "colab": {
          "base_uri": "https://localhost:8080/",
          "height": 246
        },
        "outputId": "ac5f8cdb-3231-4c15-d928-559e89041e19"
      },
      "outputs": [
        {
          "output_type": "stream",
          "name": "stdout",
          "text": [
            "[0. 0. 0. 0. 0. 0. 0. 0. 0. 0.]\n",
            "[ 0. 10.  0.  0.  0.  0.  0.  0.  0.  0.]\n"
          ]
        },
        {
          "output_type": "error",
          "ename": "ValueError",
          "evalue": "ignored",
          "traceback": [
            "\u001b[0;31m---------------------------------------------------------------------------\u001b[0m",
            "\u001b[0;31mValueError\u001b[0m                                Traceback (most recent call last)",
            "\u001b[0;32m<ipython-input-46-644a5d921298>\u001b[0m in \u001b[0;36m<module>\u001b[0;34m\u001b[0m\n\u001b[1;32m      4\u001b[0m \u001b[0mprint\u001b[0m\u001b[0;34m(\u001b[0m\u001b[0ma\u001b[0m\u001b[0;34m)\u001b[0m\u001b[0;34m\u001b[0m\u001b[0;34m\u001b[0m\u001b[0m\n\u001b[1;32m      5\u001b[0m \u001b[0ma\u001b[0m\u001b[0;34m.\u001b[0m\u001b[0mflags\u001b[0m\u001b[0;34m.\u001b[0m\u001b[0mwriteable\u001b[0m\u001b[0;34m=\u001b[0m\u001b[0;32mFalse\u001b[0m\u001b[0;34m\u001b[0m\u001b[0;34m\u001b[0m\u001b[0m\n\u001b[0;32m----> 6\u001b[0;31m \u001b[0ma\u001b[0m\u001b[0;34m[\u001b[0m\u001b[0;36m1\u001b[0m\u001b[0;34m]\u001b[0m\u001b[0;34m=\u001b[0m\u001b[0;36m10\u001b[0m\u001b[0;34m\u001b[0m\u001b[0;34m\u001b[0m\u001b[0m\n\u001b[0m",
            "\u001b[0;31mValueError\u001b[0m: assignment destination is read-only"
          ]
        }
      ],
      "source": [
        "a=np.zeros(10)\n",
        "print(a)\n",
        "a[1]=10\n",
        "print(a)\n",
        "a.flags.writeable=False\n",
        "a[1]=10"
      ]
    },
    {
      "cell_type": "markdown",
      "metadata": {
        "id": "LXyNj14u1WNb"
      },
      "source": [
        "#### 44. Consider a random 10x2 matrix representing cartesian coordinates, convert them to polar coordinates (★★☆) \n",
        "(**hint**: np.sqrt, np.arctan2)"
      ]
    },
    {
      "cell_type": "code",
      "execution_count": 47,
      "metadata": {
        "id": "2R5QH6xX1WNb",
        "colab": {
          "base_uri": "https://localhost:8080/"
        },
        "outputId": "dad476de-bd74-4222-f24c-7120d6e2cc26"
      },
      "outputs": [
        {
          "output_type": "stream",
          "name": "stdout",
          "text": [
            "[[0.53002042 0.47226444]\n",
            " [0.09950335 0.47413344]\n",
            " [0.61227016 0.93558946]\n",
            " [0.00419439 0.62736198]\n",
            " [0.82077151 0.96989059]\n",
            " [0.54370433 0.73240249]\n",
            " [0.19329617 0.31567349]\n",
            " [0.84287744 0.63756895]\n",
            " [0.01302049 0.50959985]\n",
            " [0.63952842 0.22294286]] \n",
            "\n",
            "[0.70989813 0.48446201 1.1181245  0.627376   1.27057217 0.91215559\n",
            " 0.37015289 1.05685218 0.50976617 0.67727403] \n",
            "\n",
            "[0.7278375  1.36393477 0.99131889 1.56411068 0.86848241 0.93220452\n",
            " 1.02136037 0.64759696 1.54525147 0.33543159] \n",
            "\n"
          ]
        }
      ],
      "source": [
        "a = np.random.random((10,2))\n",
        "print(a,\"\\n\")\n",
        "b,c = a[:,0], a[:,1]\n",
        "d = np.sqrt(b**2+c**2)\n",
        "e = np.arctan2(c,b)\n",
        "print(d,\"\\n\")\n",
        "print(e,\"\\n\")"
      ]
    },
    {
      "cell_type": "markdown",
      "metadata": {
        "id": "gBetHW1N1WNb"
      },
      "source": [
        "#### 45. Create random vector of size 10 and replace the maximum value by 0 (★★☆) \n",
        "(**hint**: argmax)"
      ]
    },
    {
      "cell_type": "code",
      "execution_count": 48,
      "metadata": {
        "id": "pM2Otufk1WNb",
        "colab": {
          "base_uri": "https://localhost:8080/"
        },
        "outputId": "df021cb1-11ab-4370-ac98-ebdb19810c64"
      },
      "outputs": [
        {
          "output_type": "execute_result",
          "data": {
            "text/plain": [
              "array([0.96451564, 0.07237006, 0.357232  , 0.17915061, 0.3484314 ,\n",
              "       0.        , 0.05376855, 0.88353947, 0.88211351, 0.89610934])"
            ]
          },
          "metadata": {},
          "execution_count": 48
        }
      ],
      "source": [
        "a = np.random.random(10)\n",
        "a[a.argmax()] = 0\n",
        "a"
      ]
    },
    {
      "cell_type": "markdown",
      "metadata": {
        "id": "QEr_7UWf1WNb"
      },
      "source": [
        "#### 46. Create a structured array with `x` and `y` coordinates covering the \\[0,1\\]x\\[0,1\\] area (★★☆) \n",
        "(**hint**: np.meshgrid)"
      ]
    },
    {
      "cell_type": "code",
      "execution_count": 49,
      "metadata": {
        "id": "bvwbvNJL1WNb",
        "colab": {
          "base_uri": "https://localhost:8080/"
        },
        "outputId": "30d4ee31-75da-4ed8-f295-9ca991bb1982"
      },
      "outputs": [
        {
          "output_type": "stream",
          "name": "stdout",
          "text": [
            "[[(0.  , 0.  ) (0.25, 0.  ) (0.5 , 0.  ) (0.75, 0.  ) (1.  , 0.  )]\n",
            " [(0.  , 0.25) (0.25, 0.25) (0.5 , 0.25) (0.75, 0.25) (1.  , 0.25)]\n",
            " [(0.  , 0.5 ) (0.25, 0.5 ) (0.5 , 0.5 ) (0.75, 0.5 ) (1.  , 0.5 )]\n",
            " [(0.  , 0.75) (0.25, 0.75) (0.5 , 0.75) (0.75, 0.75) (1.  , 0.75)]\n",
            " [(0.  , 1.  ) (0.25, 1.  ) (0.5 , 1.  ) (0.75, 1.  ) (1.  , 1.  )]]\n"
          ]
        }
      ],
      "source": [
        "a = np.zeros((5,5), [('x',float),('y',float)])\n",
        "a['x'], a['y'] = np.meshgrid(np.linspace(0,1,5),\n",
        "                             np.linspace(0,1,5))\n",
        "print(a)"
      ]
    },
    {
      "cell_type": "markdown",
      "metadata": {
        "id": "lUE6cUa51WNb"
      },
      "source": [
        "####  47. Given two arrays, X and Y, construct the Cauchy matrix C (Cij =1/(xi - yj)) \n",
        "(**hint**: np.subtract.outer)"
      ]
    },
    {
      "cell_type": "code",
      "execution_count": 50,
      "metadata": {
        "id": "mx9OZZpj1WNc",
        "colab": {
          "base_uri": "https://localhost:8080/"
        },
        "outputId": "f4321320-30f8-427d-d850-343446c4f24c"
      },
      "outputs": [
        {
          "output_type": "stream",
          "name": "stdout",
          "text": [
            "3638.163637117973\n"
          ]
        }
      ],
      "source": [
        "a = np.arange(8)\n",
        "b = a + 0.5\n",
        "c = 1.0 / np.subtract.outer(a, b)\n",
        "print(np.linalg.det(c))"
      ]
    },
    {
      "cell_type": "markdown",
      "metadata": {
        "id": "yodioZGw1WNc"
      },
      "source": [
        "#### 48. Print the minimum and maximum representable value for each numpy scalar type (★★☆) \n",
        "(**hint**: np.iinfo, np.finfo, eps)"
      ]
    },
    {
      "cell_type": "code",
      "execution_count": 51,
      "metadata": {
        "id": "9kqoFBVj1WNc",
        "colab": {
          "base_uri": "https://localhost:8080/"
        },
        "outputId": "86353495-ff37-4d80-f70d-5a27d83639dd"
      },
      "outputs": [
        {
          "output_type": "stream",
          "name": "stdout",
          "text": [
            "-128\n",
            "127\n",
            "-2147483648\n",
            "2147483647\n",
            "-9223372036854775808\n",
            "9223372036854775807\n",
            "-3.4028235e+38\n",
            "3.4028235e+38\n",
            "1.1920929e-07\n",
            "-1.7976931348623157e+308\n",
            "1.7976931348623157e+308\n",
            "2.220446049250313e-16\n"
          ]
        }
      ],
      "source": [
        "for dtype in [np.int8, np.int32, np.int64]:\n",
        "   print(np.iinfo(dtype).min)\n",
        "   print(np.iinfo(dtype).max)\n",
        "for dtype in [np.float32, np.float64]:\n",
        "   print(np.finfo(dtype).min)\n",
        "   print(np.finfo(dtype).max)\n",
        "   print(np.finfo(dtype).eps)"
      ]
    },
    {
      "cell_type": "markdown",
      "metadata": {
        "id": "T663srbQ1WNc"
      },
      "source": [
        "#### 49. How to print all the values of an array? (★★☆) \n",
        "(**hint**: np.set\\_printoptions)"
      ]
    },
    {
      "cell_type": "code",
      "execution_count": 52,
      "metadata": {
        "id": "GSCn1Dyg1WNc",
        "colab": {
          "base_uri": "https://localhost:8080/"
        },
        "outputId": "41a3e1c5-123c-4c6b-d48c-1b08f2fa0fe8"
      },
      "outputs": [
        {
          "output_type": "stream",
          "name": "stdout",
          "text": [
            "[[0. 0. 0. 0. 0. 0. 0. 0. 0. 0.]\n",
            " [0. 0. 0. 0. 0. 0. 0. 0. 0. 0.]\n",
            " [0. 0. 0. 0. 0. 0. 0. 0. 0. 0.]\n",
            " [0. 0. 0. 0. 0. 0. 0. 0. 0. 0.]\n",
            " [0. 0. 0. 0. 0. 0. 0. 0. 0. 0.]\n",
            " [0. 0. 0. 0. 0. 0. 0. 0. 0. 0.]\n",
            " [0. 0. 0. 0. 0. 0. 0. 0. 0. 0.]\n",
            " [0. 0. 0. 0. 0. 0. 0. 0. 0. 0.]\n",
            " [0. 0. 0. 0. 0. 0. 0. 0. 0. 0.]\n",
            " [0. 0. 0. 0. 0. 0. 0. 0. 0. 0.]]\n"
          ]
        }
      ],
      "source": [
        "np.set_printoptions(threshold=float(\"inf\"))\n",
        "a = np.zeros((10,10))\n",
        "print(a)"
      ]
    },
    {
      "cell_type": "markdown",
      "metadata": {
        "id": "s8loU2d31WNc"
      },
      "source": [
        "#### 50. How to find the closest value (to a given scalar) in a vector? (★★☆) \n",
        "(**hint**: argmin)"
      ]
    },
    {
      "cell_type": "code",
      "execution_count": 53,
      "metadata": {
        "id": "ff7ebJYi1WNc",
        "colab": {
          "base_uri": "https://localhost:8080/"
        },
        "outputId": "a10398cf-d02d-4938-f75a-355990780f7a"
      },
      "outputs": [
        {
          "output_type": "stream",
          "name": "stdout",
          "text": [
            "1\n"
          ]
        },
        {
          "output_type": "execute_result",
          "data": {
            "text/plain": [
              "(1, None)"
            ]
          },
          "metadata": {},
          "execution_count": 53
        }
      ],
      "source": [
        "a = np.arange(5)\n",
        "b = np.random.uniform(0,5)\n",
        "index = (np.abs(a-b)).argmin()\n",
        "index,print(a[index])"
      ]
    },
    {
      "cell_type": "markdown",
      "metadata": {
        "id": "KzgU3SmG1WNc"
      },
      "source": [
        "#### 51. Create a structured array representing a position (x,y) and a color (r,g,b) (★★☆) \n",
        "(**hint**: dtype)"
      ]
    },
    {
      "cell_type": "code",
      "execution_count": 54,
      "metadata": {
        "id": "-P1zi80v1WNc",
        "colab": {
          "base_uri": "https://localhost:8080/"
        },
        "outputId": "62dc11d9-3066-40f9-acea-9287c64e6843"
      },
      "outputs": [
        {
          "output_type": "stream",
          "name": "stdout",
          "text": [
            "[((0., 0.), (0., 0., 0.)) ((0., 0.), (0., 0., 0.))\n",
            " ((0., 0.), (0., 0., 0.)) ((0., 0.), (0., 0., 0.))\n",
            " ((0., 0.), (0., 0., 0.)) ((0., 0.), (0., 0., 0.))\n",
            " ((0., 0.), (0., 0., 0.)) ((0., 0.), (0., 0., 0.))\n",
            " ((0., 0.), (0., 0., 0.)) ((0., 0.), (0., 0., 0.))]\n"
          ]
        },
        {
          "output_type": "stream",
          "name": "stderr",
          "text": [
            "<ipython-input-54-1c50e4e32ac3>:1: FutureWarning: Passing (type, 1) or '1type' as a synonym of type is deprecated; in a future version of numpy, it will be understood as (type, (1,)) / '(1,)type'.\n",
            "  a = np.zeros(10, [ ('position', [ ('x', float, 1),\n"
          ]
        }
      ],
      "source": [
        "a = np.zeros(10, [ ('position', [ ('x', float, 1),\n",
        "                                  ('y', float, 1)]),\n",
        "                   ('color',    [ ('r', float, 1),\n",
        "                                  ('g', float, 1),\n",
        "                                  ('b', float, 1)])])\n",
        "print(a)"
      ]
    },
    {
      "cell_type": "markdown",
      "metadata": {
        "id": "IShKB0sU1WNd"
      },
      "source": [
        "#### 52. Consider a random vector with shape (100,2) representing coordinates, find point by point distances (★★☆) \n",
        "(**hint**: np.atleast\\_2d, T, np.sqrt)"
      ]
    },
    {
      "cell_type": "code",
      "execution_count": 55,
      "metadata": {
        "id": "KOftg-gm1WNd",
        "colab": {
          "base_uri": "https://localhost:8080/"
        },
        "outputId": "9dbd84df-1fb8-4751-8803-e9f701e746a2"
      },
      "outputs": [
        {
          "output_type": "stream",
          "name": "stdout",
          "text": [
            "[[0.         0.48455724 0.16295801 0.69089595 0.42257593 0.92425468\n",
            "  0.29651387 0.42627578 0.73418567 0.83665329]\n",
            " [0.48455724 0.         0.46897733 0.26138624 0.08134319 0.48923969\n",
            "  0.19095907 0.32474594 0.28551936 0.37312027]\n",
            " [0.16295801 0.46897733 0.         0.71189622 0.39218656 0.94754992\n",
            "  0.31209496 0.30431437 0.67174598 0.8409379 ]\n",
            " [0.69089595 0.26138624 0.71189622 0.         0.34189395 0.23596048\n",
            "  0.40366884 0.58229136 0.36265606 0.15912179]\n",
            " [0.42257593 0.08134319 0.39218656 0.34189395 0.         0.57058093\n",
            "  0.14525375 0.25160661 0.31827583 0.45312241]\n",
            " [0.92425468 0.48923969 0.94754992 0.23596048 0.57058093 0.\n",
            "  0.63955039 0.79826394 0.4896062  0.1423721 ]\n",
            " [0.29651387 0.19095907 0.31209496 0.40366884 0.14525375 0.63955039\n",
            "  0.         0.30757296 0.46232313 0.54273584]\n",
            " [0.42627578 0.32474594 0.30431437 0.58229136 0.25160661 0.79826394\n",
            "  0.30757296 0.         0.40879087 0.66733733]\n",
            " [0.73418567 0.28551936 0.67174598 0.36265606 0.31827583 0.4896062\n",
            "  0.46232313 0.40879087 0.         0.34765753]\n",
            " [0.83665329 0.37312027 0.8409379  0.15912179 0.45312241 0.1423721\n",
            "  0.54273584 0.66733733 0.34765753 0.        ]]\n",
            "[[0.         0.52846628 0.44789619 0.4012108  0.3209732  0.18275617\n",
            "  0.62837635 0.71232915 0.6276159  0.16959954]\n",
            " [0.52846628 0.         0.83594913 0.55479667 0.79890259 0.69017727\n",
            "  1.00880023 0.38650746 0.20683981 0.48164351]\n",
            " [0.44789619 0.83594913 0.         0.84629339 0.60880606 0.49694196\n",
            "  0.94230941 1.1220685  0.998375   0.37041827]\n",
            " [0.4012108  0.55479667 0.84629339 0.         0.40508472 0.39899027\n",
            "  0.47681573 0.47766336 0.50643485 0.53736873]\n",
            " [0.3209732  0.79890259 0.60880606 0.40508472 0.         0.14328402\n",
            "  0.33744268 0.86178138 0.83873702 0.48098754]\n",
            " [0.18275617 0.69017727 0.49694196 0.39899027 0.14328402 0.\n",
            "  0.47243728 0.80866198 0.75769348 0.33802825]\n",
            " [0.62837635 1.00880023 0.94230941 0.47681573 0.33744268 0.47243728\n",
            "  0.         0.94145352 0.98304523 0.79723363]\n",
            " [0.71232915 0.38650746 1.1220685  0.47766336 0.86178138 0.80866198\n",
            "  0.94145352 0.         0.18402219 0.75225164]\n",
            " [0.6276159  0.20683981 0.998375   0.50643485 0.83873702 0.75769348\n",
            "  0.98304523 0.18402219 0.         0.62994047]\n",
            " [0.16959954 0.48164351 0.37041827 0.53736873 0.48098754 0.33802825\n",
            "  0.79723363 0.75225164 0.62994047 0.        ]]\n"
          ]
        }
      ],
      "source": [
        "Z = np.random.random((10,2))\n",
        "X,Y = np.atleast_2d(Z[:,0], Z[:,1])\n",
        "D = np.sqrt( (X-X.T)**2 + (Y-Y.T)**2)\n",
        "print(D)\n",
        "import scipy\n",
        "import scipy.spatial\n",
        "\n",
        "Z = np.random.random((10,2))\n",
        "D = scipy.spatial.distance.cdist(Z,Z)\n",
        "print(D)"
      ]
    },
    {
      "cell_type": "markdown",
      "metadata": {
        "id": "lH6-tjMH1WNd"
      },
      "source": [
        "#### 53. How to convert a float (32 bits) array into an integer (32 bits) in place? \n",
        "(**hint**: astype(copy=False))"
      ]
    },
    {
      "cell_type": "code",
      "execution_count": 56,
      "metadata": {
        "id": "90CvUqjH1WNd",
        "colab": {
          "base_uri": "https://localhost:8080/"
        },
        "outputId": "13061e04-8403-41d3-c393-768d7815ae55"
      },
      "outputs": [
        {
          "output_type": "stream",
          "name": "stdout",
          "text": [
            "[1. 2. 3. 4. 5. 6. 7. 8. 9.]\n",
            "[1 2 3 4 5 6 7 8 9]\n"
          ]
        }
      ],
      "source": [
        "x = np.arange(1,10,dtype=float)\n",
        "y = x.astype(int)\n",
        "print(x)\n",
        "print(y)"
      ]
    },
    {
      "cell_type": "markdown",
      "metadata": {
        "id": "VoO3bXFB1WNd"
      },
      "source": [
        "#### 54. How to read the following file? (★★☆) \n",
        "(**hint**: np.genfromtxt)"
      ]
    },
    {
      "cell_type": "markdown",
      "metadata": {
        "id": "tYdiZmV01WNd"
      },
      "source": [
        "```\n",
        "1, 2, 3, 4, 5\n",
        "6,  ,  , 7, 8\n",
        " ,  , 9,10,11\n",
        "```"
      ]
    },
    {
      "cell_type": "code",
      "execution_count": 57,
      "metadata": {
        "id": "HH1i8Zy41WNd",
        "colab": {
          "base_uri": "https://localhost:8080/"
        },
        "outputId": "d2425886-dafe-4099-a89e-53df58b84086"
      },
      "outputs": [
        {
          "output_type": "execute_result",
          "data": {
            "text/plain": [
              "array([[ 1,  2,  3,  4,  5],\n",
              "       [ 6, -1, -1,  7,  8],\n",
              "       [-1, -1,  9, 10, 11]])"
            ]
          },
          "metadata": {},
          "execution_count": 57
        }
      ],
      "source": [
        "from numpy.lib.npyio import genfromtxt\n",
        "from io import StringIO as st\n",
        "s = st(\"\"\"1, 2, 3, 4, 5\\n\n",
        "                6,  ,  , 7, 8\\n\n",
        "                 ,  , 9,10,11\\n\"\"\")\n",
        "x = np.genfromtxt(s,delimiter=\",\",dtype=int)\n",
        "x"
      ]
    },
    {
      "cell_type": "markdown",
      "metadata": {
        "id": "pMBG-Xun1WNd"
      },
      "source": [
        "#### 55. What is the equivalent of enumerate for numpy arrays? (★★☆) \n",
        "(**hint**: np.ndenumerate, np.ndindex)"
      ]
    },
    {
      "cell_type": "code",
      "execution_count": null,
      "metadata": {
        "id": "BX25n-Ad1WNe"
      },
      "outputs": [],
      "source": [
        "a = np.arange(9).reshape(3,3)\n",
        "for index, value in np.ndenumerate(a):\n",
        "    print(index, value)\n",
        "for index in np.ndindex(a.shape):\n",
        "    print(index, a[index])"
      ]
    },
    {
      "cell_type": "markdown",
      "metadata": {
        "id": "a1Sy3JJV1WNe"
      },
      "source": [
        "#### 56. Generate a generic 2D Gaussian-like array (★★☆) \n",
        "(**hint**: np.meshgrid, np.exp)"
      ]
    },
    {
      "cell_type": "code",
      "execution_count": 58,
      "metadata": {
        "id": "klfo1c3E1WNe",
        "colab": {
          "base_uri": "https://localhost:8080/"
        },
        "outputId": "797b82c9-0ad1-4772-aad4-c7d9111642bc"
      },
      "outputs": [
        {
          "output_type": "stream",
          "name": "stdout",
          "text": [
            "[[0.36787944 0.44822088 0.51979489 0.57375342 0.60279818 0.60279818\n",
            "  0.57375342 0.51979489 0.44822088 0.36787944]\n",
            " [0.44822088 0.54610814 0.63331324 0.69905581 0.73444367 0.73444367\n",
            "  0.69905581 0.63331324 0.54610814 0.44822088]\n",
            " [0.51979489 0.63331324 0.73444367 0.81068432 0.85172308 0.85172308\n",
            "  0.81068432 0.73444367 0.63331324 0.51979489]\n",
            " [0.57375342 0.69905581 0.81068432 0.89483932 0.9401382  0.9401382\n",
            "  0.89483932 0.81068432 0.69905581 0.57375342]\n",
            " [0.60279818 0.73444367 0.85172308 0.9401382  0.98773022 0.98773022\n",
            "  0.9401382  0.85172308 0.73444367 0.60279818]\n",
            " [0.60279818 0.73444367 0.85172308 0.9401382  0.98773022 0.98773022\n",
            "  0.9401382  0.85172308 0.73444367 0.60279818]\n",
            " [0.57375342 0.69905581 0.81068432 0.89483932 0.9401382  0.9401382\n",
            "  0.89483932 0.81068432 0.69905581 0.57375342]\n",
            " [0.51979489 0.63331324 0.73444367 0.81068432 0.85172308 0.85172308\n",
            "  0.81068432 0.73444367 0.63331324 0.51979489]\n",
            " [0.44822088 0.54610814 0.63331324 0.69905581 0.73444367 0.73444367\n",
            "  0.69905581 0.63331324 0.54610814 0.44822088]\n",
            " [0.36787944 0.44822088 0.51979489 0.57375342 0.60279818 0.60279818\n",
            "  0.57375342 0.51979489 0.44822088 0.36787944]]\n"
          ]
        }
      ],
      "source": [
        "x,y = np.meshgrid(np.linspace(-1,1,10), np.linspace(-1,1,10))\n",
        "d = np.sqrt(x*x+y*y)\n",
        "sigma, mu = 1.0, 0.0\n",
        "g = np.exp(-( (d-mu)**2 / ( 2.0 * sigma**2 ) ) )\n",
        "print(g)"
      ]
    },
    {
      "cell_type": "markdown",
      "metadata": {
        "id": "8x4_PcCv1WNe"
      },
      "source": [
        "#### 57. How to randomly place p elements in a 2D array? (★★☆) \n",
        "(**hint**: np.put, np.random.choice)"
      ]
    },
    {
      "cell_type": "code",
      "execution_count": 59,
      "metadata": {
        "id": "Lpvs4xoA1WNe",
        "colab": {
          "base_uri": "https://localhost:8080/"
        },
        "outputId": "a0793c26-9f20-4675-c618-5fc3a0c8af2f"
      },
      "outputs": [
        {
          "output_type": "stream",
          "name": "stdout",
          "text": [
            "[[0. 0. 0. 0. 0. 0. 0. 0. 0. 0.]\n",
            " [0. 0. 0. 0. 0. 0. 0. 0. 0. 0.]\n",
            " [0. 0. 0. 0. 0. 0. 0. 0. 0. 0.]\n",
            " [0. 0. 0. 0. 0. 1. 0. 0. 0. 0.]\n",
            " [0. 0. 0. 0. 0. 0. 0. 0. 0. 0.]\n",
            " [0. 0. 0. 0. 0. 0. 0. 0. 0. 0.]\n",
            " [0. 0. 0. 0. 1. 0. 0. 0. 0. 0.]\n",
            " [0. 0. 0. 0. 0. 0. 0. 0. 0. 0.]\n",
            " [0. 0. 1. 0. 0. 0. 0. 0. 0. 0.]\n",
            " [0. 0. 0. 0. 0. 0. 0. 0. 0. 0.]]\n"
          ]
        }
      ],
      "source": [
        "n = 10\n",
        "p = 3\n",
        "Z = np.zeros((n,n))\n",
        "np.put(Z, np.random.choice(range(n*n), p, replace=False),1)\n",
        "print(Z)"
      ]
    },
    {
      "cell_type": "markdown",
      "metadata": {
        "id": "pc7GDOLp1WNe"
      },
      "source": [
        "#### 58. Subtract the mean of each row of a matrix (★★☆) \n",
        "(**hint**: mean(axis=,keepdims=))"
      ]
    },
    {
      "cell_type": "code",
      "execution_count": 60,
      "metadata": {
        "id": "NHwYZRtV1WNe",
        "colab": {
          "base_uri": "https://localhost:8080/"
        },
        "outputId": "685cab25-53ec-425e-fb14-3767de915944"
      },
      "outputs": [
        {
          "output_type": "stream",
          "name": "stdout",
          "text": [
            "[[-0.18468332 -0.09367196 -0.25057135 -0.04152327  0.46048427  0.42078819\n",
            "  -0.34757955  0.40208736 -0.2357315  -0.12959887]\n",
            " [-0.12520656  0.04895926  0.39276626 -0.12090793  0.28589445 -0.47428248\n",
            "   0.04846582 -0.09575433  0.18262477 -0.14255927]\n",
            " [-0.2702094   0.15101953  0.28744097 -0.02662333  0.35603142 -0.01740827\n",
            "   0.24484433 -0.20027614 -0.03603092 -0.48878819]\n",
            " [ 0.38790882 -0.07041726 -0.37354497 -0.10973242 -0.26847562 -0.28586124\n",
            "   0.3342217   0.19673351  0.50808978 -0.3189223 ]\n",
            " [-0.1351321   0.39684918 -0.13222649  0.33876211  0.02307602  0.09804844\n",
            "  -0.13616752 -0.15761677 -0.26774573 -0.02784715]]\n"
          ]
        }
      ],
      "source": [
        "x = np.random.rand(5, 10)\n",
        "y = x - x.mean(axis=1, keepdims=True)\n",
        "y = x - x.mean(axis=1).reshape(-1, 1)\n",
        "print(y)"
      ]
    },
    {
      "cell_type": "markdown",
      "metadata": {
        "id": "nTPNV0Tt1WNe"
      },
      "source": [
        "#### 59. How to sort an array by the nth column? (★★☆) \n",
        "(**hint**: argsort)"
      ]
    },
    {
      "cell_type": "code",
      "execution_count": 61,
      "metadata": {
        "id": "wn4EmEfh1WNf",
        "colab": {
          "base_uri": "https://localhost:8080/"
        },
        "outputId": "1cff2c2c-fb45-48b1-82a0-d6ccac291928"
      },
      "outputs": [
        {
          "output_type": "stream",
          "name": "stdout",
          "text": [
            "[[9 5 5]\n",
            " [0 2 2]\n",
            " [5 4 8]]\n",
            "[[0 2 2]\n",
            " [5 4 8]\n",
            " [9 5 5]]\n"
          ]
        }
      ],
      "source": [
        "a = np.random.randint(0,10,(3,3))\n",
        "print(a)\n",
        "print(a[a[:,1].argsort()])"
      ]
    },
    {
      "cell_type": "markdown",
      "metadata": {
        "id": "jCUkwcOo1WNf"
      },
      "source": [
        "#### 60. How to tell if a given 2D array has null columns? (★★☆) \n",
        "(**hint**: any, ~)"
      ]
    },
    {
      "cell_type": "code",
      "execution_count": 62,
      "metadata": {
        "id": "45I2eBap1WNf",
        "colab": {
          "base_uri": "https://localhost:8080/"
        },
        "outputId": "0ffbe9df-5adc-40cc-8820-6b407cfd269b"
      },
      "outputs": [
        {
          "output_type": "stream",
          "name": "stdout",
          "text": [
            "True\n"
          ]
        }
      ],
      "source": [
        "a = np.random.randint(0,3,(3,10))\n",
        "print((~a.any(axis=0)).any())"
      ]
    },
    {
      "cell_type": "markdown",
      "metadata": {
        "id": "X9-_7e571WNf"
      },
      "source": [
        "#### 61. Find the nearest value from a given value in an array (★★☆) \n",
        "(**hint**: np.abs, argmin, flat)"
      ]
    },
    {
      "cell_type": "code",
      "execution_count": 63,
      "metadata": {
        "id": "KQYrtdlc1WNf",
        "colab": {
          "base_uri": "https://localhost:8080/"
        },
        "outputId": "10ed956f-984e-4d01-9d91-31846e067f78"
      },
      "outputs": [
        {
          "output_type": "stream",
          "name": "stdout",
          "text": [
            "6 0.5419121662339453\n"
          ]
        }
      ],
      "source": [
        "Z = np.random.uniform(0,1,10)\n",
        "z = 0.5\n",
        "x = np.abs(Z - z).argmin()\n",
        "m = Z.flat[x]\n",
        "print(x, m)"
      ]
    },
    {
      "cell_type": "markdown",
      "metadata": {
        "id": "STyuEn3h1WNf"
      },
      "source": [
        "#### 62. Considering two arrays with shape (1,3) and (3,1), how to compute their sum using an iterator? (★★☆) \n",
        "(**hint**: np.nditer)"
      ]
    },
    {
      "cell_type": "code",
      "execution_count": 64,
      "metadata": {
        "id": "qIpXdSNu1WNf",
        "colab": {
          "base_uri": "https://localhost:8080/"
        },
        "outputId": "55b6a50f-ab9d-47f6-f1c7-454a94c9a97b"
      },
      "outputs": [
        {
          "output_type": "stream",
          "name": "stdout",
          "text": [
            "[[0 1 2]\n",
            " [1 2 3]\n",
            " [2 3 4]]\n"
          ]
        }
      ],
      "source": [
        "a = np.arange(3).reshape(3,1)\n",
        "b = np.arange(3).reshape(1,3)\n",
        "it = np.nditer([a,b,None])\n",
        "for x,y,z in it: \n",
        "  z[...] = x + y\n",
        "print(it.operands[2])"
      ]
    },
    {
      "cell_type": "markdown",
      "metadata": {
        "id": "Bj7QLHVZ1WNf"
      },
      "source": [
        "#### 63. Create an array class that has a name attribute (★★☆) \n",
        "(**hint**: class method)"
      ]
    },
    {
      "cell_type": "code",
      "execution_count": 65,
      "metadata": {
        "id": "5qnLOu-21WNf",
        "colab": {
          "base_uri": "https://localhost:8080/"
        },
        "outputId": "f0ae2823-a2cf-423c-fc48-d2ca13a401f2"
      },
      "outputs": [
        {
          "output_type": "stream",
          "name": "stdout",
          "text": [
            "range_10\n"
          ]
        }
      ],
      "source": [
        "class namedarray(np.ndarray):\n",
        "    def __new__(cls, array, name=\"no name\"):\n",
        "        obj = np.asarray(array).view(cls)\n",
        "        obj.name = name\n",
        "        return obj\n",
        "    def __array_finalize__(self, obj):\n",
        "        if obj is None: return\n",
        "        self.info = getattr(obj, 'name', \"no name\")\n",
        "\n",
        "a = namedarray(np.arange(10), \"range_10\")\n",
        "print(a.name)"
      ]
    },
    {
      "cell_type": "markdown",
      "metadata": {
        "id": "eS5NwjIR1WNg"
      },
      "source": [
        "#### 64. Consider a given vector, how to add 1 to each element indexed by a second vector (be careful with repeated indices)? (★★★) \n",
        "(**hint**: np.bincount | np.add.at)"
      ]
    },
    {
      "cell_type": "code",
      "execution_count": 67,
      "metadata": {
        "id": "4jCmh24N1WNg",
        "colab": {
          "base_uri": "https://localhost:8080/"
        },
        "outputId": "94bf7c9e-25dd-4756-ceb9-14bc480da9a2"
      },
      "outputs": [
        {
          "output_type": "stream",
          "name": "stdout",
          "text": [
            "[2. 5. 1. 2. 3. 7. 1. 3. 3. 3.]\n",
            "[ 3.  9.  1.  3.  5. 13.  1.  5.  5.  5.]\n"
          ]
        }
      ],
      "source": [
        "a = np.ones(10)\n",
        "b = np.random.randint(0,len(a),20)\n",
        "a += np.bincount(b, minlength=len(a))\n",
        "print(a)\n",
        "np.add.at(a, b, 1)\n",
        "print(a)"
      ]
    },
    {
      "cell_type": "markdown",
      "metadata": {
        "id": "20MRfqy51WNg"
      },
      "source": [
        "#### 65. How to accumulate elements of a vector (X) to an array (F) based on an index list (I)? (★★★) \n",
        "(**hint**: np.bincount)"
      ]
    },
    {
      "cell_type": "code",
      "execution_count": 68,
      "metadata": {
        "id": "6miAqX6i1WNg",
        "colab": {
          "base_uri": "https://localhost:8080/"
        },
        "outputId": "57e6c84c-3d7c-494d-fd81-852ed06d0305"
      },
      "outputs": [
        {
          "output_type": "stream",
          "name": "stdout",
          "text": [
            "[0. 1. 0. 5. 0. 8. 0. 3. 0. 4.]\n"
          ]
        }
      ],
      "source": [
        "a = [1,2,3,4,5,6]\n",
        "b = [1,5,7,9,3,5]\n",
        "c = np.bincount(b,a)\n",
        "print(c)"
      ]
    },
    {
      "cell_type": "markdown",
      "metadata": {
        "id": "NU5nHkMX1WNg"
      },
      "source": [
        "#### 66. Considering a (w,h,3) image of (dtype=ubyte), compute the number of unique colors (★★★) \n",
        "(**hint**: np.unique)"
      ]
    },
    {
      "cell_type": "code",
      "execution_count": 69,
      "metadata": {
        "id": "rP6LgPg81WNg",
        "colab": {
          "base_uri": "https://localhost:8080/"
        },
        "outputId": "518fefb6-080b-4d65-e769-b8b70685ecdd"
      },
      "outputs": [
        {
          "output_type": "stream",
          "name": "stdout",
          "text": [
            "64\n",
            "64\n"
          ]
        }
      ],
      "source": [
        "w, h = 256, 256\n",
        "I = np.random.randint(0, 4, (h, w, 3)).astype(np.ubyte)\n",
        "colors = np.unique(I.reshape(-1, 3), axis=0)\n",
        "n = len(colors)\n",
        "print(n)\n",
        "w, h = 256, 256\n",
        "I = np.random.randint(0,4,(h,w,3), dtype=np.uint8)\n",
        "I24 = np.dot(I.astype(np.uint32),[1,256,65536])\n",
        "n = len(np.unique(I24))\n",
        "print(n)"
      ]
    },
    {
      "cell_type": "markdown",
      "metadata": {
        "id": "QnXyV3Ls1WNg"
      },
      "source": [
        "#### 67. Considering a four dimensions array, how to get sum over the last two axis at once? (★★★) \n",
        "(**hint**: sum(axis=(-2,-1)))"
      ]
    },
    {
      "cell_type": "code",
      "execution_count": 70,
      "metadata": {
        "id": "Ggt09qzp1WNg",
        "colab": {
          "base_uri": "https://localhost:8080/"
        },
        "outputId": "0b487755-7dac-4211-fe6d-0b9779417303"
      },
      "outputs": [
        {
          "output_type": "stream",
          "name": "stdout",
          "text": [
            "[[49 44 52 69]\n",
            " [46 48 51 57]\n",
            " [47 52 66 54]]\n",
            "[[49 44 52 69]\n",
            " [46 48 51 57]\n",
            " [47 52 66 54]]\n"
          ]
        }
      ],
      "source": [
        "a = np.random.randint(0,10,(3,4,3,4))\n",
        "sum = a.sum(axis=(-2,-1))\n",
        "print(sum)\n",
        "sum = a.reshape(a.shape[:-2] + (-1,)).sum(axis=-1)\n",
        "print(sum)"
      ]
    },
    {
      "cell_type": "markdown",
      "metadata": {
        "id": "nZNs9A3x1WNg"
      },
      "source": [
        "#### 68. Considering a one-dimensional vector D, how to compute means of subsets of D using a vector S of same size describing subset  indices? (★★★) \n",
        "(**hint**: np.bincount)"
      ]
    },
    {
      "cell_type": "code",
      "execution_count": 71,
      "metadata": {
        "id": "eJo8_4Fh1WNh",
        "colab": {
          "base_uri": "https://localhost:8080/"
        },
        "outputId": "76619fc8-0b98-4e85-c84a-7dcac5c4917f"
      },
      "outputs": [
        {
          "output_type": "stream",
          "name": "stdout",
          "text": [
            "[0.60247989 0.53717383 0.40433266 0.2953356  0.53609936 0.61145852\n",
            " 0.58643013 0.51511956 0.37573957 0.52115738]\n",
            "0    0.602480\n",
            "1    0.537174\n",
            "2    0.404333\n",
            "3    0.295336\n",
            "4    0.536099\n",
            "5    0.611459\n",
            "6    0.586430\n",
            "7    0.515120\n",
            "8    0.375740\n",
            "9    0.521157\n",
            "dtype: float64\n"
          ]
        }
      ],
      "source": [
        "import pandas as pd\n",
        "D = np.random.uniform(0,1,100)\n",
        "S = np.random.randint(0,10,100)\n",
        "D_sums = np.bincount(S, weights=D)\n",
        "D_counts = np.bincount(S)\n",
        "D_means = D_sums / D_counts\n",
        "print(D_means)\n",
        "print(pd.Series(D).groupby(S).mean())"
      ]
    },
    {
      "cell_type": "markdown",
      "metadata": {
        "id": "IOWUzZxS1WNh"
      },
      "source": [
        "#### 69. How to get the diagonal of a dot product? (★★★) \n",
        "(**hint**: np.diag)"
      ]
    },
    {
      "cell_type": "code",
      "execution_count": 72,
      "metadata": {
        "id": "NWRlQOU51WNh",
        "colab": {
          "base_uri": "https://localhost:8080/"
        },
        "outputId": "235cfa43-eda6-4ae4-a643-9189f064d993"
      },
      "outputs": [
        {
          "output_type": "execute_result",
          "data": {
            "text/plain": [
              "(array([[0.04487601, 0.57778477, 0.68673226, 0.74180954, 0.93797944],\n",
              "        [0.86808492, 0.13535283, 0.09089677, 0.60946357, 0.55117618],\n",
              "        [0.6524764 , 0.77036237, 0.33763281, 0.11999073, 0.62809828],\n",
              "        [0.02196545, 0.40417869, 0.56243053, 0.22381087, 0.63443203],\n",
              "        [0.30056416, 0.03522183, 0.27428171, 0.44757481, 0.55564206]]),\n",
              " array([[0.20614484, 0.17501479, 0.99993932, 0.94867869, 0.40817506],\n",
              "        [0.7201458 , 0.39551261, 0.89661554, 0.98370814, 0.97774141],\n",
              "        [0.71188465, 0.3903678 , 0.17773952, 0.3033548 , 0.57172709],\n",
              "        [0.94065152, 0.60640491, 0.13193825, 0.50380444, 0.09206808],\n",
              "        [0.64253679, 0.31283931, 0.3543912 , 0.22334325, 0.0443357 ]]),\n",
              " array([2.21468497, 0.78295591, 1.64159024, 0.84350104, 0.37977705]))"
            ]
          },
          "metadata": {},
          "execution_count": 72
        }
      ],
      "source": [
        "A = np.random.uniform(0,1,(5,5))\n",
        "B = np.random.uniform(0,1,(5,5))\n",
        "\n",
        "A,B,np.diag(np.dot(A, B))"
      ]
    },
    {
      "cell_type": "markdown",
      "metadata": {
        "id": "PK-94Cd51WNh"
      },
      "source": [
        "#### 70. Consider the vector \\[1, 2, 3, 4, 5\\], how to build a new vector with 3 consecutive zeros interleaved between each value? (★★★) \n",
        "(**hint**: array\\[::4\\])"
      ]
    },
    {
      "cell_type": "code",
      "execution_count": 73,
      "metadata": {
        "id": "uhnCYasw1WNh",
        "colab": {
          "base_uri": "https://localhost:8080/"
        },
        "outputId": "050ce4ec-f0f0-4d17-8d0b-290b5c96aceb"
      },
      "outputs": [
        {
          "output_type": "stream",
          "name": "stdout",
          "text": [
            "[1. 0. 0. 0. 2. 0. 0. 0. 3. 0. 0. 0. 4. 0. 0. 0. 5.]\n"
          ]
        }
      ],
      "source": [
        "a = np.array([1,2,3,4,5])\n",
        "b = 3\n",
        "c = np.zeros(len(a) + (len(a)-1)*(b))\n",
        "c[::b+1] = a\n",
        "print(c)"
      ]
    },
    {
      "cell_type": "markdown",
      "metadata": {
        "id": "mVe_VvcI1WNh"
      },
      "source": [
        "#### 71. Consider an array of dimension (5,5,3), how to mulitply it by an array with dimensions (5,5)? (★★★) \n",
        "(**hint**: array\\[:, :, None\\])"
      ]
    },
    {
      "cell_type": "code",
      "execution_count": 74,
      "metadata": {
        "collapsed": true,
        "id": "MYsl8ksO1WNh",
        "colab": {
          "base_uri": "https://localhost:8080/"
        },
        "outputId": "edd1212f-0e82-40be-f044-150d26691226"
      },
      "outputs": [
        {
          "output_type": "stream",
          "name": "stdout",
          "text": [
            "[[[2. 2. 2.]\n",
            "  [2. 2. 2.]\n",
            "  [2. 2. 2.]\n",
            "  [2. 2. 2.]\n",
            "  [2. 2. 2.]]\n",
            "\n",
            " [[2. 2. 2.]\n",
            "  [2. 2. 2.]\n",
            "  [2. 2. 2.]\n",
            "  [2. 2. 2.]\n",
            "  [2. 2. 2.]]\n",
            "\n",
            " [[2. 2. 2.]\n",
            "  [2. 2. 2.]\n",
            "  [2. 2. 2.]\n",
            "  [2. 2. 2.]\n",
            "  [2. 2. 2.]]\n",
            "\n",
            " [[2. 2. 2.]\n",
            "  [2. 2. 2.]\n",
            "  [2. 2. 2.]\n",
            "  [2. 2. 2.]\n",
            "  [2. 2. 2.]]\n",
            "\n",
            " [[2. 2. 2.]\n",
            "  [2. 2. 2.]\n",
            "  [2. 2. 2.]\n",
            "  [2. 2. 2.]\n",
            "  [2. 2. 2.]]]\n"
          ]
        }
      ],
      "source": [
        "A = np.ones((5,5,3))\n",
        "B = 2*np.ones((5,5))\n",
        "print(A * B[:,:,None])"
      ]
    },
    {
      "cell_type": "markdown",
      "metadata": {
        "id": "n3pwF2Ip1WNh"
      },
      "source": [
        "#### 72. How to swap two rows of an array? (★★★) \n",
        "(**hint**: array\\[\\[\\]\\] = array\\[\\[\\]\\])"
      ]
    },
    {
      "cell_type": "code",
      "execution_count": 75,
      "metadata": {
        "id": "FzIxgkW91WNh",
        "colab": {
          "base_uri": "https://localhost:8080/"
        },
        "outputId": "f8bd36f2-40f2-4473-bddc-a24ed2c673cc"
      },
      "outputs": [
        {
          "output_type": "execute_result",
          "data": {
            "text/plain": [
              "array([[ 5,  6,  7,  8,  9],\n",
              "       [ 0,  1,  2,  3,  4],\n",
              "       [10, 11, 12, 13, 14],\n",
              "       [15, 16, 17, 18, 19],\n",
              "       [20, 21, 22, 23, 24]])"
            ]
          },
          "metadata": {},
          "execution_count": 75
        }
      ],
      "source": [
        "a = np.arange(25).reshape(5,5)\n",
        "a[[0,1]] = a[[1,0]]\n",
        "a"
      ]
    },
    {
      "cell_type": "markdown",
      "metadata": {
        "id": "LZlOnSF81WNi"
      },
      "source": [
        "#### 73. Consider a set of 10 triplets describing 10 triangles (with shared vertices), find the set of unique line segments composing all the  triangles (★★★) \n",
        "(**hint**: repeat, np.roll, np.sort, view, np.unique)"
      ]
    },
    {
      "cell_type": "code",
      "execution_count": 76,
      "metadata": {
        "id": "eEGaJAJ_1WNi",
        "colab": {
          "base_uri": "https://localhost:8080/"
        },
        "outputId": "017ee401-f93c-4f50-e3a2-c1e8985644f0"
      },
      "outputs": [
        {
          "output_type": "stream",
          "name": "stdout",
          "text": [
            "[( 0, 30) ( 0, 49) ( 5, 34) ( 5, 52) (19, 24) (19, 55) (19, 59) (19, 98)\n",
            " (22, 73) (22, 77) (24, 55) (27, 85) (27, 90) (30, 49) (34, 52) (37, 40)\n",
            " (37, 50) (40, 50) (55, 72) (55, 93) (59, 98) (61, 62) (61, 73) (62, 73)\n",
            " (66, 87) (66, 99) (72, 93) (73, 77) (85, 90) (87, 99)]\n"
          ]
        }
      ],
      "source": [
        "faces = np.random.randint(0,100,(10,3))\n",
        "F = np.roll(faces.repeat(2,axis=1),-1,axis=1)\n",
        "F = F.reshape(len(F)*3,2)\n",
        "F = np.sort(F,axis=1)\n",
        "G = F.view( dtype=[('p0',F.dtype),('p1',F.dtype)] )\n",
        "G = np.unique(G)\n",
        "print(G)"
      ]
    },
    {
      "cell_type": "markdown",
      "metadata": {
        "id": "J-1Alh951WNi"
      },
      "source": [
        "#### 74. Given an array C that is a bincount, how to produce an array A such that np.bincount(A) == C? (★★★) \n",
        "(**hint**: np.repeat)"
      ]
    },
    {
      "cell_type": "code",
      "execution_count": 77,
      "metadata": {
        "id": "DA0WQfF71WNi",
        "colab": {
          "base_uri": "https://localhost:8080/"
        },
        "outputId": "d05cc5ff-27f6-4c93-fe0a-d0577fd14544"
      },
      "outputs": [
        {
          "output_type": "stream",
          "name": "stdout",
          "text": [
            "[1 1 2 3 4 4 6]\n"
          ]
        }
      ],
      "source": [
        "c = np.bincount([1,1,2,3,4,4,6])\n",
        "a = np.repeat(np.arange(len(c)), c)\n",
        "print(a)"
      ]
    },
    {
      "cell_type": "markdown",
      "metadata": {
        "id": "emRtSx1Z1WNi"
      },
      "source": [
        "#### 75. How to compute averages using a sliding window over an array? (★★★) \n",
        "(**hint**: np.cumsum)"
      ]
    },
    {
      "cell_type": "code",
      "execution_count": 78,
      "metadata": {
        "id": "tZ1aSETu1WNi",
        "colab": {
          "base_uri": "https://localhost:8080/"
        },
        "outputId": "86cb9169-d5b3-44fc-a6d4-2e10c5cfac3a"
      },
      "outputs": [
        {
          "output_type": "stream",
          "name": "stdout",
          "text": [
            "[ 1.  2.  3.  4.  5.  6.  7.  8.  9. 10. 11. 12. 13. 14. 15. 16. 17. 18.]\n"
          ]
        }
      ],
      "source": [
        "def moving_average(a, n=3) :\n",
        "    ret = np.cumsum(a, dtype=float)\n",
        "    ret[n:] = ret[n:] - ret[:-n]\n",
        "    return ret[n - 1:] / n\n",
        "Z = np.arange(20)\n",
        "print(moving_average(Z, n=3))"
      ]
    },
    {
      "cell_type": "markdown",
      "metadata": {
        "id": "KvDK6r0C1WNi"
      },
      "source": [
        "#### 76. Consider a one-dimensional array Z, build a two-dimensional array whose first row is (Z\\[0\\],Z\\[1\\],Z\\[2\\]) and each subsequent row is  shifted by 1 (last row should be (Z\\[-3\\],Z\\[-2\\],Z\\[-1\\]) (★★★) \n",
        "(**hint**: from numpy.lib import stride_tricks)"
      ]
    },
    {
      "cell_type": "code",
      "execution_count": 79,
      "metadata": {
        "id": "VHO7Fena1WNi",
        "colab": {
          "base_uri": "https://localhost:8080/"
        },
        "outputId": "06a9774a-1e67-4cbb-cfd6-88cde5a89e2c"
      },
      "outputs": [
        {
          "output_type": "stream",
          "name": "stdout",
          "text": [
            "[[0 1 2]\n",
            " [1 2 3]\n",
            " [2 3 4]\n",
            " [3 4 5]\n",
            " [4 5 6]\n",
            " [5 6 7]\n",
            " [6 7 8]\n",
            " [7 8 9]]\n"
          ]
        }
      ],
      "source": [
        "from numpy.lib import stride_tricks\n",
        "\n",
        "def rolling(a, window):\n",
        "    shape = (a.size - window + 1, window)\n",
        "    strides = (a.strides[0], a.strides[0])\n",
        "    return stride_tricks.as_strided(a, shape=shape, strides=strides)\n",
        "Z = rolling(np.arange(10), 3)\n",
        "print(Z)"
      ]
    },
    {
      "cell_type": "markdown",
      "metadata": {
        "id": "vDLEdlV41WNj"
      },
      "source": [
        "#### 77. How to negate a boolean, or to change the sign of a float inplace? (★★★) \n",
        "(**hint**: np.logical_not, np.negative)"
      ]
    },
    {
      "cell_type": "code",
      "execution_count": 80,
      "metadata": {
        "id": "QpTzakip1WNj",
        "colab": {
          "base_uri": "https://localhost:8080/"
        },
        "outputId": "1ff69090-6e4e-4dcd-bc69-6b1e376fab28"
      },
      "outputs": [
        {
          "output_type": "stream",
          "name": "stdout",
          "text": [
            "[ 0.099164    0.69626503 -0.55387794 -0.63776761  0.65059126 -0.56314996\n",
            " -0.31840942 -0.93529868  0.87166684 -0.62592727]\n",
            "[-0.099164   -0.69626503  0.55387794  0.63776761 -0.65059126  0.56314996\n",
            "  0.31840942  0.93529868 -0.87166684  0.62592727]\n"
          ]
        }
      ],
      "source": [
        "Z = np.random.uniform(-1.0,1.0,10)\n",
        "print(Z)\n",
        "np.negative(Z, out=Z)\n",
        "print(Z)"
      ]
    },
    {
      "cell_type": "markdown",
      "metadata": {
        "id": "pGcsM2b11WNj"
      },
      "source": [
        "#### 78. Consider 2 sets of points P0,P1 describing lines (2d) and a point p, how to compute distance from p to each line i  (P0\\[i\\],P1\\[i\\])? (★★★)"
      ]
    },
    {
      "cell_type": "code",
      "execution_count": 81,
      "metadata": {
        "id": "3UHs_y351WNj",
        "colab": {
          "base_uri": "https://localhost:8080/"
        },
        "outputId": "4ae8fbfd-0943-4c9d-9635-86ccd7fc5b72"
      },
      "outputs": [
        {
          "output_type": "stream",
          "name": "stdout",
          "text": [
            "[ 1.98851038  0.41994061  8.09432269  2.39431261  0.58894869  0.53782094\n",
            "  3.93215404  6.85914381 12.61411576  7.05056945]\n"
          ]
        }
      ],
      "source": [
        "def distance(P0, P1, p):\n",
        "    T = P1 - P0\n",
        "    L = (T**2).sum(axis=1)\n",
        "    U = -((P0[:,0]-p[...,0])*T[:,0] + (P0[:,1]-p[...,1])*T[:,1]) / L\n",
        "    U = U.reshape(len(U),1)\n",
        "    D = P0 + U*T - p\n",
        "    return np.sqrt((D**2).sum(axis=1))\n",
        "\n",
        "P0 = np.random.uniform(-10,10,(10,2))\n",
        "P1 = np.random.uniform(-10,10,(10,2))\n",
        "p  = np.random.uniform(-10,10,( 1,2))\n",
        "print(distance(P0, P1, p))"
      ]
    },
    {
      "cell_type": "markdown",
      "metadata": {
        "id": "tqJFfrLk1WNj"
      },
      "source": [
        "#### 79. Consider 2 sets of points P0,P1 describing lines (2d) and a set of points P, how to compute distance from each point j (P\\[j\\]) to each line i (P0\\[i\\],P1\\[i\\])? (★★★)"
      ]
    },
    {
      "cell_type": "code",
      "execution_count": 82,
      "metadata": {
        "id": "NG81pwnB1WNj",
        "colab": {
          "base_uri": "https://localhost:8080/"
        },
        "outputId": "e273cb63-bd53-4f3b-f931-26bdb045f786"
      },
      "outputs": [
        {
          "output_type": "stream",
          "name": "stdout",
          "text": [
            "[[ 2.90304455  0.03508148 11.88340254  8.79024923 12.24460148  2.26051625\n",
            "   5.69031627 13.83034835 20.80115119  7.14629255]\n",
            " [ 7.62751418 10.17866396  1.24815137  4.98339005  1.89063955  4.81615121\n",
            "   4.44272487  1.73811086  3.95445206  4.50160826]\n",
            " [ 5.66767893  8.30655948  1.45572842  2.08706641  1.97202688  3.78869375\n",
            "   2.59288682  1.73039995  7.9176062   1.11459065]\n",
            " [ 0.0338976   2.56897267  6.69006551  2.96867384  0.73769789  2.13188595\n",
            "   3.15328228  6.03982949 11.06687408  3.6037964 ]\n",
            " [ 6.7543383   9.41055288  0.55274164  2.92946484  2.65566909  5.0224884\n",
            "   3.70115343  1.11692017  7.61868911  0.19641623]\n",
            " [12.85696883 15.48039551  5.69438066  9.16629363  0.92221353 10.64153448\n",
            "   9.76221438  4.91159564  2.19533856  0.55515843]\n",
            " [15.33763656 18.1353745   6.53814645  9.53010059  8.2528375  14.81433474\n",
            "  12.46088826  3.63740933  5.39012747  7.2512356 ]\n",
            " [ 9.66970691 12.12330494  4.12108923  8.07241283  6.17831469  5.82503948\n",
            "   6.36261855  5.47414673  0.35175977  8.29093183]\n",
            " [ 4.9574842   7.52231396  1.47908357  2.26234599  1.16071154  2.35100173\n",
            "   1.79004943  0.88628334  6.30813498  4.37285195]\n",
            " [13.80884355 16.39028636  7.0019726  10.56576612  0.92703441 11.14686447\n",
            "  10.66144834  6.58379069  0.28848807  2.17366504]]\n"
          ]
        }
      ],
      "source": [
        "P0 = np.random.uniform(-10, 10, (10,2))\n",
        "P1 = np.random.uniform(-10,10,(10,2))\n",
        "p = np.random.uniform(-10, 10, (10,2))\n",
        "print(np.array([distance(P0,P1,p_i) for p_i in p]))"
      ]
    },
    {
      "cell_type": "markdown",
      "metadata": {
        "id": "vn4c78AO1WNj"
      },
      "source": [
        "#### 80. Consider an arbitrary array, write a function that extract a subpart with a fixed shape and centered on a given element (pad with a `fill` value when necessary) (★★★) \n",
        "(**hint**: minimum, maximum)"
      ]
    },
    {
      "cell_type": "code",
      "execution_count": 83,
      "metadata": {
        "id": "Rno0h-P11WNj",
        "colab": {
          "base_uri": "https://localhost:8080/"
        },
        "outputId": "dd08ffd3-e4f6-4d03-ca4b-58df2c284e23"
      },
      "outputs": [
        {
          "output_type": "stream",
          "name": "stdout",
          "text": [
            "[[9 5 8 1 6 4 7 3 5 3]\n",
            " [8 5 3 6 4 0 6 1 8 9]\n",
            " [1 4 1 9 6 2 3 7 9 3]\n",
            " [7 5 0 9 1 9 5 9 7 8]\n",
            " [6 9 0 6 9 0 6 5 2 9]\n",
            " [2 8 0 7 3 9 5 0 1 5]\n",
            " [9 6 1 8 0 8 7 2 5 6]\n",
            " [3 9 5 2 7 2 1 1 0 2]\n",
            " [7 3 5 9 2 7 4 6 7 8]\n",
            " [3 1 2 2 8 5 5 5 9 9]]\n",
            "[[0 0 0 0 0]\n",
            " [0 9 5 8 1]\n",
            " [0 8 5 3 6]\n",
            " [0 1 4 1 9]\n",
            " [0 7 5 0 9]]\n"
          ]
        },
        {
          "output_type": "stream",
          "name": "stderr",
          "text": [
            "<ipython-input-83-f2b5781f38bf>:23: FutureWarning: Using a non-tuple sequence for multidimensional indexing is deprecated; use `arr[tuple(seq)]` instead of `arr[seq]`. In the future this will be interpreted as an array index, `arr[np.array(seq)]`, which will result either in an error or a different result.\n",
            "  R[r] = Z[z]\n"
          ]
        }
      ],
      "source": [
        "Z = np.random.randint(0,10,(10,10))\n",
        "shape = (5,5)\n",
        "fill  = 0\n",
        "position = (1,1)\n",
        "\n",
        "R = np.ones(shape, dtype=Z.dtype)*fill\n",
        "P  = np.array(list(position)).astype(int)\n",
        "Rs = np.array(list(R.shape)).astype(int)\n",
        "Zs = np.array(list(Z.shape)).astype(int)\n",
        "\n",
        "R_start = np.zeros((len(shape),)).astype(int)\n",
        "R_stop  = np.array(list(shape)).astype(int)\n",
        "Z_start = (P-Rs//2)\n",
        "Z_stop  = (P+Rs//2)+Rs%2\n",
        "\n",
        "R_start = (R_start - np.minimum(Z_start,0)).tolist()\n",
        "Z_start = (np.maximum(Z_start,0)).tolist()\n",
        "R_stop = np.maximum(R_start, (R_stop - np.maximum(Z_stop-Zs,0))).tolist()\n",
        "Z_stop = (np.minimum(Z_stop,Zs)).tolist()\n",
        "\n",
        "r = [slice(start,stop) for start,stop in zip(R_start,R_stop)]\n",
        "z = [slice(start,stop) for start,stop in zip(Z_start,Z_stop)]\n",
        "R[r] = Z[z]\n",
        "print(Z)\n",
        "print(R)"
      ]
    },
    {
      "cell_type": "markdown",
      "metadata": {
        "id": "idFqQVcH1WNk"
      },
      "source": [
        "#### 81. Consider an array Z = \\[1,2,3,4,5,6,7,8,9,10,11,12,13,14\\], how to generate an array R = \\[\\[1,2,3,4\\], \\[2,3,4,5\\], \\[3,4,5,6\\], ..., \\[11,12,13,14\\]\\]? (★★★) \n",
        "(**hint**: stride\\_tricks.as\\_strided)"
      ]
    },
    {
      "cell_type": "code",
      "execution_count": 84,
      "metadata": {
        "id": "Q7e0uKX11WNk",
        "colab": {
          "base_uri": "https://localhost:8080/"
        },
        "outputId": "f64f6177-a64f-4182-d414-a4caf5d0b0a7"
      },
      "outputs": [
        {
          "output_type": "stream",
          "name": "stdout",
          "text": [
            "[[ 1  2  3  4]\n",
            " [ 2  3  4  5]\n",
            " [ 3  4  5  6]\n",
            " [ 4  5  6  7]\n",
            " [ 5  6  7  8]\n",
            " [ 6  7  8  9]\n",
            " [ 7  8  9 10]\n",
            " [ 8  9 10 11]\n",
            " [ 9 10 11 12]\n",
            " [10 11 12 13]\n",
            " [11 12 13 14]]\n"
          ]
        }
      ],
      "source": [
        "Z = np.arange(1,15,dtype=np.uint32)\n",
        "R = stride_tricks.as_strided(Z,(11,4),(4,4))\n",
        "print(R)"
      ]
    },
    {
      "cell_type": "markdown",
      "metadata": {
        "id": "JBk5PUEg1WNk"
      },
      "source": [
        "#### 82. Compute a matrix rank (★★★) \n",
        "(**hint**: np.linalg.svd) (suggestion: np.linalg.svd)"
      ]
    },
    {
      "cell_type": "code",
      "execution_count": 85,
      "metadata": {
        "id": "_Vpw_3_C1WNk",
        "colab": {
          "base_uri": "https://localhost:8080/"
        },
        "outputId": "29639ded-811f-48b4-8e84-a121c339a20e"
      },
      "outputs": [
        {
          "output_type": "stream",
          "name": "stdout",
          "text": [
            "10\n"
          ]
        }
      ],
      "source": [
        "Z = np.random.uniform(0,1,(10,10))\n",
        "U, S, V = np.linalg.svd(Z) \n",
        "rank = np.sum(S > 1e-10)\n",
        "print(rank)"
      ]
    },
    {
      "cell_type": "markdown",
      "metadata": {
        "id": "rghHXTj21WNk"
      },
      "source": [
        "#### 83. How to find the most frequent value in an array? \n",
        "(**hint**: np.bincount, argmax)"
      ]
    },
    {
      "cell_type": "code",
      "execution_count": 86,
      "metadata": {
        "id": "B2UJUqNM1WNk",
        "colab": {
          "base_uri": "https://localhost:8080/"
        },
        "outputId": "5455ab62-dff7-4911-9014-8c1864b87d8f"
      },
      "outputs": [
        {
          "output_type": "stream",
          "name": "stdout",
          "text": [
            "[1 2 3 2 2]\n",
            "[0 1 3 1]\n",
            "2\n"
          ]
        }
      ],
      "source": [
        "x = np.random.randint(1,5,5)\n",
        "print(x) \n",
        "print(np.bincount(x)) \n",
        "print(np.bincount(x).argmax())"
      ]
    },
    {
      "cell_type": "markdown",
      "metadata": {
        "id": "eGwW8Jex1WNk"
      },
      "source": [
        "#### 84. Extract all the contiguous 3x3 blocks from a random 10x10 matrix (★★★) \n",
        "(**hint**: stride\\_tricks.as\\_strided)"
      ]
    },
    {
      "cell_type": "code",
      "execution_count": 87,
      "metadata": {
        "id": "9r8QJAIe1WNl",
        "colab": {
          "base_uri": "https://localhost:8080/"
        },
        "outputId": "e5a3bb0f-7afd-43bc-a8f4-2860341df863"
      },
      "outputs": [
        {
          "output_type": "stream",
          "name": "stdout",
          "text": [
            "[[[[0 1 4]\n",
            "   [0 0 3]\n",
            "   [0 0 0]]\n",
            "\n",
            "  [[1 4 3]\n",
            "   [0 3 2]\n",
            "   [0 0 0]]\n",
            "\n",
            "  [[4 3 0]\n",
            "   [3 2 3]\n",
            "   [0 0 0]]\n",
            "\n",
            "  [[3 0 1]\n",
            "   [2 3 3]\n",
            "   [0 0 2]]\n",
            "\n",
            "  [[0 1 0]\n",
            "   [3 3 1]\n",
            "   [0 2 4]]\n",
            "\n",
            "  [[1 0 0]\n",
            "   [3 1 0]\n",
            "   [2 4 1]]\n",
            "\n",
            "  [[0 0 3]\n",
            "   [1 0 3]\n",
            "   [4 1 3]]\n",
            "\n",
            "  [[0 3 2]\n",
            "   [0 3 3]\n",
            "   [1 3 2]]]\n",
            "\n",
            "\n",
            " [[[0 0 3]\n",
            "   [0 0 0]\n",
            "   [0 3 3]]\n",
            "\n",
            "  [[0 3 2]\n",
            "   [0 0 0]\n",
            "   [3 3 1]]\n",
            "\n",
            "  [[3 2 3]\n",
            "   [0 0 0]\n",
            "   [3 1 0]]\n",
            "\n",
            "  [[2 3 3]\n",
            "   [0 0 2]\n",
            "   [1 0 0]]\n",
            "\n",
            "  [[3 3 1]\n",
            "   [0 2 4]\n",
            "   [0 0 4]]\n",
            "\n",
            "  [[3 1 0]\n",
            "   [2 4 1]\n",
            "   [0 4 3]]\n",
            "\n",
            "  [[1 0 3]\n",
            "   [4 1 3]\n",
            "   [4 3 1]]\n",
            "\n",
            "  [[0 3 3]\n",
            "   [1 3 2]\n",
            "   [3 1 2]]]\n",
            "\n",
            "\n",
            " [[[0 0 0]\n",
            "   [0 3 3]\n",
            "   [1 1 3]]\n",
            "\n",
            "  [[0 0 0]\n",
            "   [3 3 1]\n",
            "   [1 3 0]]\n",
            "\n",
            "  [[0 0 0]\n",
            "   [3 1 0]\n",
            "   [3 0 2]]\n",
            "\n",
            "  [[0 0 2]\n",
            "   [1 0 0]\n",
            "   [0 2 0]]\n",
            "\n",
            "  [[0 2 4]\n",
            "   [0 0 4]\n",
            "   [2 0 3]]\n",
            "\n",
            "  [[2 4 1]\n",
            "   [0 4 3]\n",
            "   [0 3 0]]\n",
            "\n",
            "  [[4 1 3]\n",
            "   [4 3 1]\n",
            "   [3 0 1]]\n",
            "\n",
            "  [[1 3 2]\n",
            "   [3 1 2]\n",
            "   [0 1 3]]]\n",
            "\n",
            "\n",
            " [[[0 3 3]\n",
            "   [1 1 3]\n",
            "   [3 1 4]]\n",
            "\n",
            "  [[3 3 1]\n",
            "   [1 3 0]\n",
            "   [1 4 4]]\n",
            "\n",
            "  [[3 1 0]\n",
            "   [3 0 2]\n",
            "   [4 4 3]]\n",
            "\n",
            "  [[1 0 0]\n",
            "   [0 2 0]\n",
            "   [4 3 4]]\n",
            "\n",
            "  [[0 0 4]\n",
            "   [2 0 3]\n",
            "   [3 4 2]]\n",
            "\n",
            "  [[0 4 3]\n",
            "   [0 3 0]\n",
            "   [4 2 2]]\n",
            "\n",
            "  [[4 3 1]\n",
            "   [3 0 1]\n",
            "   [2 2 4]]\n",
            "\n",
            "  [[3 1 2]\n",
            "   [0 1 3]\n",
            "   [2 4 0]]]\n",
            "\n",
            "\n",
            " [[[1 1 3]\n",
            "   [3 1 4]\n",
            "   [2 2 3]]\n",
            "\n",
            "  [[1 3 0]\n",
            "   [1 4 4]\n",
            "   [2 3 4]]\n",
            "\n",
            "  [[3 0 2]\n",
            "   [4 4 3]\n",
            "   [3 4 2]]\n",
            "\n",
            "  [[0 2 0]\n",
            "   [4 3 4]\n",
            "   [4 2 0]]\n",
            "\n",
            "  [[2 0 3]\n",
            "   [3 4 2]\n",
            "   [2 0 3]]\n",
            "\n",
            "  [[0 3 0]\n",
            "   [4 2 2]\n",
            "   [0 3 1]]\n",
            "\n",
            "  [[3 0 1]\n",
            "   [2 2 4]\n",
            "   [3 1 4]]\n",
            "\n",
            "  [[0 1 3]\n",
            "   [2 4 0]\n",
            "   [1 4 0]]]\n",
            "\n",
            "\n",
            " [[[3 1 4]\n",
            "   [2 2 3]\n",
            "   [4 2 2]]\n",
            "\n",
            "  [[1 4 4]\n",
            "   [2 3 4]\n",
            "   [2 2 0]]\n",
            "\n",
            "  [[4 4 3]\n",
            "   [3 4 2]\n",
            "   [2 0 0]]\n",
            "\n",
            "  [[4 3 4]\n",
            "   [4 2 0]\n",
            "   [0 0 3]]\n",
            "\n",
            "  [[3 4 2]\n",
            "   [2 0 3]\n",
            "   [0 3 3]]\n",
            "\n",
            "  [[4 2 2]\n",
            "   [0 3 1]\n",
            "   [3 3 0]]\n",
            "\n",
            "  [[2 2 4]\n",
            "   [3 1 4]\n",
            "   [3 0 3]]\n",
            "\n",
            "  [[2 4 0]\n",
            "   [1 4 0]\n",
            "   [0 3 3]]]\n",
            "\n",
            "\n",
            " [[[2 2 3]\n",
            "   [4 2 2]\n",
            "   [3 3 4]]\n",
            "\n",
            "  [[2 3 4]\n",
            "   [2 2 0]\n",
            "   [3 4 0]]\n",
            "\n",
            "  [[3 4 2]\n",
            "   [2 0 0]\n",
            "   [4 0 0]]\n",
            "\n",
            "  [[4 2 0]\n",
            "   [0 0 3]\n",
            "   [0 0 2]]\n",
            "\n",
            "  [[2 0 3]\n",
            "   [0 3 3]\n",
            "   [0 2 0]]\n",
            "\n",
            "  [[0 3 1]\n",
            "   [3 3 0]\n",
            "   [2 0 0]]\n",
            "\n",
            "  [[3 1 4]\n",
            "   [3 0 3]\n",
            "   [0 0 2]]\n",
            "\n",
            "  [[1 4 0]\n",
            "   [0 3 3]\n",
            "   [0 2 2]]]\n",
            "\n",
            "\n",
            " [[[4 2 2]\n",
            "   [3 3 4]\n",
            "   [3 0 1]]\n",
            "\n",
            "  [[2 2 0]\n",
            "   [3 4 0]\n",
            "   [0 1 4]]\n",
            "\n",
            "  [[2 0 0]\n",
            "   [4 0 0]\n",
            "   [1 4 3]]\n",
            "\n",
            "  [[0 0 3]\n",
            "   [0 0 2]\n",
            "   [4 3 0]]\n",
            "\n",
            "  [[0 3 3]\n",
            "   [0 2 0]\n",
            "   [3 0 0]]\n",
            "\n",
            "  [[3 3 0]\n",
            "   [2 0 0]\n",
            "   [0 0 4]]\n",
            "\n",
            "  [[3 0 3]\n",
            "   [0 0 2]\n",
            "   [0 4 3]]\n",
            "\n",
            "  [[0 3 3]\n",
            "   [0 2 2]\n",
            "   [4 3 2]]]]\n"
          ]
        }
      ],
      "source": [
        "z = np.random.randint(0,5,(10,10))\n",
        "n = 3\n",
        "i = 1 + (z.shape[0]-3)\n",
        "j = 1 + (z.shape[1]-3)\n",
        "c = stride_tricks.as_strided(z, shape=(i, j, n, n), strides=z.strides + z.strides)\n",
        "print(c)"
      ]
    },
    {
      "cell_type": "markdown",
      "metadata": {
        "id": "VKNqdA1j1WNl"
      },
      "source": [
        "#### 85. Create a 2D array subclass such that Z\\[i,j\\] == Z\\[j,i\\] (★★★) \n",
        "(**hint**: class method)"
      ]
    },
    {
      "cell_type": "code",
      "execution_count": 88,
      "metadata": {
        "id": "gVXBhFMX1WNl",
        "colab": {
          "base_uri": "https://localhost:8080/"
        },
        "outputId": "c9e197c5-5631-4a9f-f9c6-16a4934dc739"
      },
      "outputs": [
        {
          "output_type": "stream",
          "name": "stdout",
          "text": [
            "[[ 4  2  6  6  6]\n",
            " [ 2  9  8 11 17]\n",
            " [ 6  8  2 42 15]\n",
            " [ 6 11 42  6  7]\n",
            " [ 6 17 15  7  8]]\n"
          ]
        }
      ],
      "source": [
        "class Symetric(np.ndarray):\n",
        "    def __setitem__(self, index, value):\n",
        "        i,j = index\n",
        "        super(Symetric, self).__setitem__((i,j), value)\n",
        "        super(Symetric, self).__setitem__((j,i), value)\n",
        "\n",
        "def symetric(Z):\n",
        "    return np.asarray(Z + Z.T - np.diag(Z.diagonal())).view(Symetric)\n",
        "\n",
        "S = symetric(np.random.randint(0,10,(5,5)))\n",
        "S[2,3] = 42\n",
        "print(S)"
      ]
    },
    {
      "cell_type": "markdown",
      "metadata": {
        "id": "oJBT3hzH1WNl"
      },
      "source": [
        "#### 86. Consider a set of p matrices wich shape (n,n) and a set of p vectors with shape (n,1). How to compute the sum of of the p matrix products at once? (result has shape (n,1)) (★★★) \n",
        "(**hint**: np.tensordot)"
      ]
    },
    {
      "cell_type": "code",
      "execution_count": 89,
      "metadata": {
        "id": "XIwJeqBw1WNl",
        "colab": {
          "base_uri": "https://localhost:8080/"
        },
        "outputId": "9e85c5a0-5b18-4f50-ef67-88681e6966a4"
      },
      "outputs": [
        {
          "output_type": "stream",
          "name": "stdout",
          "text": [
            "[[200.]\n",
            " [200.]\n",
            " [200.]\n",
            " [200.]\n",
            " [200.]\n",
            " [200.]\n",
            " [200.]\n",
            " [200.]\n",
            " [200.]\n",
            " [200.]\n",
            " [200.]\n",
            " [200.]\n",
            " [200.]\n",
            " [200.]\n",
            " [200.]\n",
            " [200.]\n",
            " [200.]\n",
            " [200.]\n",
            " [200.]\n",
            " [200.]]\n"
          ]
        }
      ],
      "source": [
        "p, n = 10, 20\n",
        "M = np.ones((p,n,n))\n",
        "V = np.ones((p,n,1))\n",
        "S = np.tensordot(M, V, axes=[[0, 2], [0, 1]])\n",
        "print(S)"
      ]
    },
    {
      "cell_type": "markdown",
      "metadata": {
        "id": "KCfb-PHg1WNl"
      },
      "source": [
        "#### 87. Consider a 16x16 array, how to get the block-sum (block size is 4x4)? (★★★) \n",
        "(**hint**: np.add.reduceat)"
      ]
    },
    {
      "cell_type": "code",
      "execution_count": 90,
      "metadata": {
        "id": "K5oqNn2D1WNl",
        "colab": {
          "base_uri": "https://localhost:8080/"
        },
        "outputId": "1e084090-2b32-4cba-fb1e-7e1060fbaa25"
      },
      "outputs": [
        {
          "output_type": "stream",
          "name": "stdout",
          "text": [
            "[[16. 16. 16. 16.]\n",
            " [16. 16. 16. 16.]\n",
            " [16. 16. 16. 16.]\n",
            " [16. 16. 16. 16.]]\n"
          ]
        }
      ],
      "source": [
        "a = np.ones((16,16))\n",
        "b = 4\n",
        "c = np.add.reduceat(np.add.reduceat(a, np.arange(0, a.shape[0], b), axis=0),\n",
        "                                       np.arange(0, a.shape[1], b), axis=1)\n",
        "print(c)"
      ]
    },
    {
      "cell_type": "markdown",
      "metadata": {
        "id": "fqnbxySZ1WNl"
      },
      "source": [
        "#### 88. How to implement the Game of Life using numpy arrays? (★★★)"
      ]
    },
    {
      "cell_type": "code",
      "execution_count": 91,
      "metadata": {
        "id": "h2_V943_1WNm",
        "colab": {
          "base_uri": "https://localhost:8080/"
        },
        "outputId": "9448396c-9ed4-4c9c-a8b4-05dad20c3294"
      },
      "outputs": [
        {
          "output_type": "stream",
          "name": "stdout",
          "text": [
            "[[0 0 0 0 0 0 0 0 0 0 0 0 0 0 0 0 0 0 0 0 0 0 0 0 0 0 0 0 0 0 0 0 0 0 0 0\n",
            "  0 0 0 0 0 0 0 0 0 0 0 0 0 0]\n",
            " [0 0 0 0 0 0 0 0 0 0 0 0 0 0 0 0 0 0 0 0 0 0 0 0 0 0 0 0 0 0 0 0 0 0 0 0\n",
            "  0 0 0 0 0 0 0 0 0 0 0 0 0 0]\n",
            " [0 0 0 0 0 0 0 0 0 0 0 0 0 0 0 0 0 0 0 0 0 0 0 0 0 0 0 0 0 1 1 0 0 0 0 0\n",
            "  0 0 0 0 0 0 0 0 0 0 0 0 0 0]\n",
            " [0 0 0 0 0 0 0 0 0 0 0 0 0 0 0 0 0 0 0 0 0 0 0 0 0 0 0 0 1 0 0 1 0 0 0 0\n",
            "  0 0 0 0 0 0 0 0 0 0 0 0 0 0]\n",
            " [0 0 0 0 0 0 0 0 0 0 0 0 0 0 0 0 0 0 0 0 0 0 0 0 0 0 0 0 1 0 0 1 0 0 0 0\n",
            "  0 0 0 0 0 0 0 0 0 0 0 0 0 0]\n",
            " [0 0 0 0 0 0 0 0 0 0 0 0 0 0 0 0 0 0 0 0 0 0 0 0 0 0 0 0 0 1 1 0 0 0 0 0\n",
            "  0 0 1 1 1 1 0 0 0 0 0 0 0 0]\n",
            " [0 0 0 0 0 0 0 0 0 0 0 0 0 0 0 0 0 0 0 0 0 0 0 0 0 0 0 0 0 0 0 0 0 0 0 1\n",
            "  1 0 1 1 1 1 1 0 0 0 0 0 0 0]\n",
            " [0 0 0 0 0 0 0 0 0 0 0 0 0 0 0 0 0 0 0 0 0 0 0 0 0 0 0 0 0 0 0 0 0 0 0 0\n",
            "  0 0 1 0 1 0 1 0 0 0 0 0 0 0]\n",
            " [0 0 0 0 0 0 0 0 0 0 0 0 0 0 0 0 0 0 0 0 0 0 0 0 0 0 0 0 0 0 0 0 0 0 0 1\n",
            "  0 1 0 0 0 1 0 0 0 0 0 0 0 0]\n",
            " [0 0 1 1 1 0 0 0 0 0 0 0 0 0 0 0 0 0 0 0 0 0 0 0 0 0 0 0 0 0 0 0 0 0 0 0\n",
            "  1 0 0 0 0 0 0 0 0 0 0 0 0 0]\n",
            " [0 0 0 0 0 0 0 0 0 0 0 0 0 0 0 0 0 0 0 0 0 0 0 0 0 0 0 0 0 0 0 0 0 0 0 0\n",
            "  0 0 0 0 0 0 0 0 0 0 0 0 0 0]\n",
            " [0 0 0 0 0 0 0 0 0 0 0 0 0 0 0 0 0 0 0 0 0 0 0 0 0 0 0 0 0 0 0 0 0 0 0 0\n",
            "  0 0 0 0 0 0 1 1 1 0 0 0 0 0]\n",
            " [0 0 0 0 0 0 0 0 0 0 0 1 1 1 1 1 1 1 0 0 0 0 0 0 0 0 0 0 0 0 0 0 0 0 0 0\n",
            "  0 0 0 0 0 0 1 0 1 0 0 0 0 0]\n",
            " [0 0 0 0 0 0 0 0 0 1 1 0 0 0 0 0 0 1 0 0 0 0 0 0 0 0 0 0 0 0 0 0 0 0 0 0\n",
            "  0 0 0 0 0 0 1 1 1 0 0 1 1 0]\n",
            " [0 0 0 0 0 0 0 0 0 0 1 0 1 0 0 0 1 1 0 0 0 0 0 0 0 0 0 0 0 0 0 0 0 0 0 0\n",
            "  0 0 0 0 0 0 0 0 0 0 0 1 1 0]\n",
            " [0 0 0 0 0 0 0 1 1 0 0 0 0 1 1 0 0 0 0 0 0 0 0 0 1 1 0 0 0 0 0 0 0 0 0 0\n",
            "  0 0 0 0 0 0 0 0 0 0 0 0 0 0]\n",
            " [0 0 0 0 0 0 0 0 0 0 0 0 0 0 0 0 0 0 0 0 0 0 0 1 1 0 0 0 0 0 0 0 0 0 0 0\n",
            "  0 0 0 0 0 0 0 0 0 0 0 0 0 0]\n",
            " [0 0 0 0 0 0 0 0 0 0 0 0 0 0 0 0 0 0 0 0 0 0 0 0 1 0 1 0 0 0 0 0 0 0 0 0\n",
            "  0 0 0 0 0 0 0 0 0 0 0 0 0 0]\n",
            " [0 0 0 0 0 1 1 0 0 0 0 1 1 0 0 0 0 0 0 0 0 0 0 0 0 1 1 0 0 0 0 0 0 0 0 0\n",
            "  0 0 0 0 0 0 0 0 0 0 0 0 0 0]\n",
            " [0 0 0 0 0 1 1 0 0 0 0 1 1 0 0 0 0 0 0 0 0 0 0 0 0 0 0 0 0 0 0 0 0 0 1 0\n",
            "  0 0 0 0 0 0 0 0 0 0 0 0 0 0]\n",
            " [0 0 0 0 0 0 0 0 0 0 0 0 0 0 0 0 0 0 0 0 0 0 0 0 0 0 0 0 0 0 0 0 0 1 1 1\n",
            "  0 0 0 1 1 0 0 0 0 0 0 0 0 0]\n",
            " [0 0 0 0 0 0 0 0 0 0 0 0 0 0 0 0 0 0 0 0 0 0 0 0 0 0 0 0 0 0 0 0 0 1 1 1\n",
            "  0 1 1 0 1 1 0 0 0 0 0 0 0 0]\n",
            " [0 0 0 0 0 0 0 0 0 0 0 0 0 0 0 0 0 0 0 0 0 0 0 0 0 0 0 0 0 0 0 0 1 1 0 0\n",
            "  0 1 0 0 0 1 1 0 0 0 0 0 0 0]\n",
            " [0 0 0 0 0 0 0 0 0 0 0 0 0 0 0 0 0 0 0 0 0 0 0 0 0 0 0 0 0 0 0 0 0 1 1 1\n",
            "  0 1 1 0 1 1 0 0 0 0 0 0 0 0]\n",
            " [0 0 0 0 0 0 0 0 0 0 0 0 0 0 0 0 0 0 0 0 0 0 0 0 0 0 0 0 0 0 0 0 0 1 1 1\n",
            "  0 0 1 1 1 0 0 0 0 0 0 0 0 0]\n",
            " [0 0 0 0 0 0 0 0 0 0 0 0 0 0 0 0 0 0 0 0 1 1 0 0 0 0 0 0 0 0 0 0 0 0 0 1\n",
            "  0 0 1 1 1 0 0 0 0 0 0 0 0 0]\n",
            " [0 0 0 0 0 0 0 0 0 0 0 0 0 0 0 0 0 0 0 0 1 1 0 0 0 0 0 0 0 0 0 0 0 0 0 0\n",
            "  0 0 0 0 0 0 0 0 0 0 0 0 0 0]\n",
            " [0 0 0 0 0 0 0 0 0 0 0 0 0 0 0 0 1 0 1 0 0 0 0 0 0 0 0 0 0 0 0 0 0 0 0 0\n",
            "  0 0 0 0 0 0 0 0 0 0 0 0 0 0]\n",
            " [0 0 0 1 1 0 0 0 0 0 0 0 0 0 0 0 1 0 0 0 0 0 0 0 0 0 0 0 0 0 0 0 0 0 0 0\n",
            "  0 0 0 0 0 0 0 0 0 0 0 0 0 0]\n",
            " [0 0 0 1 1 0 0 0 0 0 1 0 0 0 0 0 0 0 0 0 1 0 0 0 0 0 0 0 0 0 0 0 0 0 0 0\n",
            "  0 0 0 0 0 0 0 0 0 0 0 0 0 0]\n",
            " [0 0 0 0 0 0 0 0 0 1 1 1 0 0 0 0 0 0 1 1 0 1 0 0 0 0 0 0 0 0 0 0 0 0 0 0\n",
            "  0 0 0 0 0 0 0 1 1 1 0 0 0 0]\n",
            " [0 0 0 0 0 0 0 0 1 0 0 1 0 0 0 0 0 0 0 1 0 1 1 0 0 0 0 0 0 0 0 0 0 0 0 0\n",
            "  0 0 0 0 0 0 0 0 0 0 0 0 0 0]\n",
            " [0 0 0 0 0 0 0 1 1 0 1 0 0 1 0 0 0 0 1 0 1 1 0 0 0 0 0 0 0 0 0 0 0 0 0 0\n",
            "  0 0 0 0 0 0 0 0 0 0 0 0 0 0]\n",
            " [0 0 0 0 0 0 0 0 1 0 1 0 0 0 0 0 0 0 1 1 1 0 0 0 0 0 0 0 0 0 0 0 0 0 0 0\n",
            "  0 0 0 0 0 0 0 0 0 0 0 0 0 0]\n",
            " [0 0 0 0 0 0 0 0 0 0 1 0 1 1 0 0 0 0 0 0 0 0 0 0 0 0 0 0 0 0 0 0 0 0 0 0\n",
            "  0 0 0 0 0 0 0 0 0 0 0 0 0 0]\n",
            " [0 0 0 0 0 0 0 0 0 0 0 1 0 0 0 0 0 0 0 0 0 0 0 0 0 0 0 0 0 0 0 0 0 0 0 0\n",
            "  0 0 0 0 0 0 0 0 0 0 0 0 0 0]\n",
            " [0 0 0 0 0 0 0 0 0 0 0 0 0 0 0 0 0 0 0 0 0 0 0 0 0 0 0 0 0 0 0 0 0 0 0 0\n",
            "  0 0 0 0 0 0 0 0 0 0 0 0 0 0]\n",
            " [0 0 0 0 0 0 0 0 0 0 0 0 0 0 0 0 1 0 0 0 0 0 0 0 0 0 0 0 0 0 0 0 0 0 0 0\n",
            "  0 0 0 0 0 0 0 0 0 0 0 0 0 0]\n",
            " [0 0 0 0 0 0 0 0 0 0 0 0 0 0 0 1 1 1 0 0 0 0 0 0 0 0 0 0 0 0 0 0 0 0 0 0\n",
            "  0 0 0 0 0 0 0 0 0 0 0 0 0 0]\n",
            " [0 0 0 0 0 0 0 1 1 0 0 0 0 0 1 0 0 1 1 0 0 0 0 0 0 0 0 0 0 0 0 0 0 0 0 0\n",
            "  0 0 0 0 0 0 0 0 0 0 0 0 0 0]\n",
            " [0 0 0 0 0 0 0 0 0 0 1 0 0 0 1 0 0 0 1 0 0 0 0 0 0 0 0 0 0 0 0 0 0 0 0 0\n",
            "  0 0 0 0 0 0 0 0 0 0 0 0 0 0]\n",
            " [0 0 0 0 0 0 1 0 0 0 0 0 0 0 0 1 1 1 1 0 0 0 0 0 0 0 0 0 0 0 0 0 0 0 0 0\n",
            "  0 0 0 0 0 0 0 0 0 0 0 0 0 0]\n",
            " [0 0 0 0 1 1 1 1 0 0 0 0 0 0 0 1 0 0 0 0 0 0 0 1 1 0 0 0 0 0 0 0 0 0 0 0\n",
            "  0 0 0 0 0 0 0 0 0 0 0 0 0 0]\n",
            " [0 0 0 0 1 0 0 1 0 0 0 1 0 0 0 0 1 1 1 0 0 0 1 0 0 1 0 0 0 0 0 0 0 0 0 0\n",
            "  0 0 0 0 0 0 0 0 0 0 0 0 0 0]\n",
            " [0 0 0 0 1 1 1 0 0 1 0 1 0 0 0 1 0 1 0 1 1 0 1 0 0 1 1 0 0 0 0 0 0 0 0 0\n",
            "  0 0 0 0 0 0 0 0 0 0 0 0 0 0]\n",
            " [0 0 0 0 0 0 0 0 1 0 1 0 0 0 0 1 1 0 1 1 1 1 0 0 1 1 0 0 0 0 0 0 0 0 1 1\n",
            "  1 0 0 0 0 0 0 0 0 0 0 0 0 0]\n",
            " [0 0 0 0 0 0 0 0 1 0 1 0 0 0 0 0 1 1 1 0 0 1 1 1 1 0 0 0 0 0 0 0 0 0 0 0\n",
            "  0 0 0 0 0 0 0 0 0 0 0 0 0 0]\n",
            " [0 0 0 0 0 0 0 0 0 0 0 0 0 0 0 0 0 1 0 0 0 0 0 0 0 0 0 0 0 0 0 0 0 0 0 0\n",
            "  0 0 0 0 0 0 0 0 0 0 0 0 0 0]\n",
            " [0 0 0 0 0 0 0 0 1 1 1 0 0 0 0 0 0 0 0 0 0 0 0 0 0 0 0 0 0 0 0 0 0 0 0 0\n",
            "  0 0 0 0 0 0 0 0 0 0 0 0 0 0]\n",
            " [0 0 0 0 0 0 0 0 0 0 0 0 0 0 0 0 0 0 0 0 0 0 0 0 0 0 0 0 0 0 0 0 0 0 0 0\n",
            "  0 0 0 0 0 0 0 0 0 0 0 0 0 0]]\n"
          ]
        }
      ],
      "source": [
        "def iterate(Z):\n",
        "    \n",
        "    N = (Z[0:-2,0:-2] + Z[0:-2,1:-1] + Z[0:-2,2:] +\n",
        "         Z[1:-1,0:-2]                + Z[1:-1,2:] +\n",
        "         Z[2:  ,0:-2] + Z[2:  ,1:-1] + Z[2:  ,2:])\n",
        "\n",
        "    \n",
        "    birth = (N==3) & (Z[1:-1,1:-1]==0)\n",
        "    survive = ((N==2) | (N==3)) & (Z[1:-1,1:-1]==1)\n",
        "    Z[...] = 0\n",
        "    Z[1:-1,1:-1][birth | survive] = 1\n",
        "    return Z\n",
        "\n",
        "Z = np.random.randint(0,2,(50,50))\n",
        "for i in range(100): Z = iterate(Z)\n",
        "print(Z)"
      ]
    },
    {
      "cell_type": "markdown",
      "metadata": {
        "id": "Tpw_yx4P1WNm"
      },
      "source": [
        "#### 89. How to get the n largest values of an array (★★★) \n",
        "(**hint**: np.argsort | np.argpartition)"
      ]
    },
    {
      "cell_type": "code",
      "execution_count": 92,
      "metadata": {
        "id": "d3zgOJyE1WNm",
        "colab": {
          "base_uri": "https://localhost:8080/"
        },
        "outputId": "dc88ac55-5afc-4144-a810-43daa0f53010"
      },
      "outputs": [
        {
          "output_type": "stream",
          "name": "stdout",
          "text": [
            "[9995 9996 9997 9998 9999]\n",
            "[9999 9998 9997 9996 9995]\n"
          ]
        }
      ],
      "source": [
        "Z = np.arange(10000)\n",
        "np.random.shuffle(Z)\n",
        "n = 5\n",
        "print (Z[np.argsort(Z)[-n:]])\n",
        "print (Z[np.argpartition(-Z,n)[:n]])"
      ]
    },
    {
      "cell_type": "markdown",
      "metadata": {
        "id": "VhAVG_w-1WNm"
      },
      "source": [
        "#### 90. Given an arbitrary number of vectors, build the cartesian product (every combinations of every item) (★★★) \n",
        "(**hint**: np.indices)"
      ]
    },
    {
      "cell_type": "code",
      "execution_count": 93,
      "metadata": {
        "scrolled": true,
        "id": "zBsh-oCj1WNm",
        "colab": {
          "base_uri": "https://localhost:8080/"
        },
        "outputId": "b6f61800-d0bc-496e-8869-d7c7fc748dcb"
      },
      "outputs": [
        {
          "output_type": "stream",
          "name": "stdout",
          "text": [
            "[[1 4 6]\n",
            " [1 4 7]\n",
            " [1 5 6]\n",
            " [1 5 7]\n",
            " [2 4 6]\n",
            " [2 4 7]\n",
            " [2 5 6]\n",
            " [2 5 7]\n",
            " [3 4 6]\n",
            " [3 4 7]\n",
            " [3 5 6]\n",
            " [3 5 7]]\n"
          ]
        }
      ],
      "source": [
        "def cartesian(arrays):\n",
        "    arrays = [np.asarray(a) for a in arrays]\n",
        "    shape = (len(x) for x in arrays)\n",
        "\n",
        "    ix = np.indices(shape, dtype=int)\n",
        "    ix = ix.reshape(len(arrays), -1).T\n",
        "\n",
        "    for n, arr in enumerate(arrays):\n",
        "        ix[:, n] = arrays[n][ix[:, n]]\n",
        "\n",
        "    return ix\n",
        "\n",
        "print (cartesian(([1, 2, 3], [4, 5], [6, 7])))"
      ]
    },
    {
      "cell_type": "markdown",
      "metadata": {
        "id": "W-XkpTq81WNm"
      },
      "source": [
        "#### 91. How to create a record array from a regular array? (★★★) \n",
        "(**hint**: np.core.records.fromarrays)"
      ]
    },
    {
      "cell_type": "code",
      "execution_count": 94,
      "metadata": {
        "id": "14tjHWU-1WNm",
        "colab": {
          "base_uri": "https://localhost:8080/"
        },
        "outputId": "b2ea1d58-c85c-4ff6-b6b7-9da58aacfcc6"
      },
      "outputs": [
        {
          "output_type": "stream",
          "name": "stdout",
          "text": [
            "[(b'Hello', 2.5, 3) (b'World', 3.6, 2)]\n"
          ]
        }
      ],
      "source": [
        "a = np.array([(\"Hello\", 2.5, 3),\n",
        "              (\"World\", 3.6, 2)])\n",
        "r = np.core.records.fromarrays(a.T,\n",
        "                               names='col1, col2, col3',\n",
        "                               formats = 'S8, f8, i8')\n",
        "print(r)"
      ]
    },
    {
      "cell_type": "markdown",
      "metadata": {
        "id": "PJXPqMXf1WNm"
      },
      "source": [
        "#### 92. Consider a large vector Z, compute Z to the power of 3 using 3 different methods (★★★) \n",
        "(**hint**: np.power, \\*, np.einsum)"
      ]
    },
    {
      "cell_type": "code",
      "execution_count": 95,
      "metadata": {
        "id": "NjjUfakW1WNm",
        "colab": {
          "base_uri": "https://localhost:8080/"
        },
        "outputId": "e0d97642-444d-471e-ef4a-be37240c9571"
      },
      "outputs": [
        {
          "output_type": "stream",
          "name": "stdout",
          "text": [
            "3.81 s ± 65 ms per loop (mean ± std. dev. of 7 runs, 1 loop each)\n",
            "160 ms ± 21.2 ms per loop (mean ± std. dev. of 7 runs, 10 loops each)\n",
            "166 ms ± 664 µs per loop (mean ± std. dev. of 7 runs, 10 loops each)\n"
          ]
        }
      ],
      "source": [
        "x = np.random.rand(int(5e7))\n",
        "\n",
        "%timeit np.power(x,3)\n",
        "%timeit x*x*x\n",
        "%timeit np.einsum('i,i,i->i',x,x,x)"
      ]
    },
    {
      "cell_type": "markdown",
      "metadata": {
        "id": "RihsqOJe1WNm"
      },
      "source": [
        "#### 93. Consider two arrays A and B of shape (8,3) and (2,2). How to find rows of A that contain elements of each row of B regardless of the order of the elements in B? (★★★) \n",
        "(**hint**: np.where)"
      ]
    },
    {
      "cell_type": "code",
      "execution_count": 96,
      "metadata": {
        "id": "gAfVfv761WNn",
        "colab": {
          "base_uri": "https://localhost:8080/"
        },
        "outputId": "f594c1d2-44c2-4488-efba-8dc8a7b079bf"
      },
      "outputs": [
        {
          "output_type": "stream",
          "name": "stdout",
          "text": [
            "[2 5 6 7]\n"
          ]
        }
      ],
      "source": [
        "a= np.random.randint(0,5,(8,3))\n",
        "b= np.random.randint(0,5,(2,2))\n",
        "\n",
        "c = (a[..., np.newaxis, np.newaxis] == b)\n",
        "rows = np.where(c.any((3,1)).all(1))[0]\n",
        "print(rows)"
      ]
    },
    {
      "cell_type": "markdown",
      "metadata": {
        "id": "7LXSxnwP1WNn"
      },
      "source": [
        "#### 94. Considering a 10x3 matrix, extract rows with unequal values (e.g. \\[2,2,3\\]) (★★★)"
      ]
    },
    {
      "cell_type": "code",
      "execution_count": 97,
      "metadata": {
        "id": "ZjzlIBHS1WNn",
        "colab": {
          "base_uri": "https://localhost:8080/"
        },
        "outputId": "fff5ac21-e53e-47d4-d431-e04972281c91"
      },
      "outputs": [
        {
          "output_type": "stream",
          "name": "stdout",
          "text": [
            "[[1 1 3]\n",
            " [0 3 2]\n",
            " [0 4 4]\n",
            " [3 2 3]\n",
            " [3 2 0]\n",
            " [2 0 3]\n",
            " [0 2 1]\n",
            " [3 3 3]\n",
            " [1 2 3]\n",
            " [1 4 0]]\n",
            "[[1 1 3]\n",
            " [0 3 2]\n",
            " [0 4 4]\n",
            " [3 2 3]\n",
            " [3 2 0]\n",
            " [2 0 3]\n",
            " [0 2 1]\n",
            " [1 2 3]\n",
            " [1 4 0]]\n",
            "[[1 1 3]\n",
            " [0 3 2]\n",
            " [0 4 4]\n",
            " [3 2 3]\n",
            " [3 2 0]\n",
            " [2 0 3]\n",
            " [0 2 1]\n",
            " [1 2 3]\n",
            " [1 4 0]]\n"
          ]
        }
      ],
      "source": [
        "Z = np.random.randint(0,5,(10,3))\n",
        "print(Z)\n",
        "\n",
        "E = np.all(Z[:,1:] == Z[:,:-1], axis=1)\n",
        "U = Z[~E]\n",
        "print(U)\n",
        "\n",
        "U = Z[Z.max(axis=1) != Z.min(axis=1),:]\n",
        "print(U)"
      ]
    },
    {
      "cell_type": "markdown",
      "metadata": {
        "id": "CcjyCxTy1WNn"
      },
      "source": [
        "#### 95. Convert a vector of ints into a matrix binary representation (★★★) \n",
        "(**hint**: np.unpackbits)"
      ]
    },
    {
      "cell_type": "code",
      "execution_count": 98,
      "metadata": {
        "id": "pP7QIokc1WNn",
        "colab": {
          "base_uri": "https://localhost:8080/"
        },
        "outputId": "398c142a-53f0-4aaa-a423-ccccf80a4669"
      },
      "outputs": [
        {
          "output_type": "stream",
          "name": "stdout",
          "text": [
            "[[0 0 0 0 0 0 0 0]\n",
            " [0 0 0 0 0 0 0 1]\n",
            " [0 0 0 0 0 0 1 0]\n",
            " [0 0 0 0 0 0 1 1]\n",
            " [0 0 0 0 1 1 1 1]\n",
            " [0 0 0 1 0 0 0 0]\n",
            " [0 0 1 0 0 0 0 0]\n",
            " [0 1 0 0 0 0 0 0]\n",
            " [1 0 0 0 0 0 0 0]]\n",
            "[[0 0 0 0 0 0 0 0]\n",
            " [0 0 0 0 0 0 0 1]\n",
            " [0 0 0 0 0 0 1 0]\n",
            " [0 0 0 0 0 0 1 1]\n",
            " [0 0 0 0 1 1 1 1]\n",
            " [0 0 0 1 0 0 0 0]\n",
            " [0 0 1 0 0 0 0 0]\n",
            " [0 1 0 0 0 0 0 0]\n",
            " [1 0 0 0 0 0 0 0]]\n"
          ]
        }
      ],
      "source": [
        "I = np.array([0, 1, 2, 3, 15, 16, 32, 64, 128])\n",
        "B = ((I.reshape(-1,1) & (2**np.arange(8))) != 0).astype(int)\n",
        "print(B[:,::-1])\n",
        "I = np.array([0, 1, 2, 3, 15, 16, 32, 64, 128], dtype=np.uint8)\n",
        "print(np.unpackbits(I[:, np.newaxis], axis=1))"
      ]
    },
    {
      "cell_type": "markdown",
      "metadata": {
        "id": "Ontep7nV1WNn"
      },
      "source": [
        "#### 96. Given a two dimensional array, how to extract unique rows? (★★★) \n",
        "(**hint**: np.ascontiguousarray)"
      ]
    },
    {
      "cell_type": "code",
      "execution_count": null,
      "metadata": {
        "id": "V0ciMqBS1WNn"
      },
      "outputs": [],
      "source": [
        "Z = np.random.randint(0,2,(6,3))\n",
        "T = np.ascontiguousarray(Z).view(np.dtype((np.void, Z.dtype.itemsize * Z.shape[1])))\n",
        "_, idx = np.unique(T, return_index=True)\n",
        "uZ = Z[idx]\n",
        "print(uZ)\n",
        "uZ = np.unique(Z, axis=0)\n",
        "print(uZ)"
      ]
    },
    {
      "cell_type": "markdown",
      "metadata": {
        "id": "C33vzB2s1WNn"
      },
      "source": [
        "#### 97. Considering 2 vectors A & B, write the einsum equivalent of inner, outer, sum, and mul function (★★★) \n",
        "(**hint**: np.einsum)"
      ]
    },
    {
      "cell_type": "code",
      "execution_count": 99,
      "metadata": {
        "id": "YuTGpx-P1WNn",
        "colab": {
          "base_uri": "https://localhost:8080/"
        },
        "outputId": "76e9b97f-c977-4e51-d44d-98ffa7f7edae"
      },
      "outputs": [
        {
          "output_type": "execute_result",
          "data": {
            "text/plain": [
              "array([[2.41012185e-01, 6.01682170e-01, 2.96291830e-02, 4.53056003e-01,\n",
              "        6.47042012e-02, 7.06027800e-03, 1.24189718e-01, 4.30202965e-01,\n",
              "        2.13139103e-01, 1.32561711e-01],\n",
              "       [3.97562927e-02, 9.92508012e-02, 4.88749759e-03, 7.47340930e-02,\n",
              "        1.06733158e-02, 1.16463190e-03, 2.04857807e-02, 7.09643581e-02,\n",
              "        3.51584737e-02, 2.18667872e-02],\n",
              "       [6.96767631e-02, 1.73946666e-01, 8.56581406e-03, 1.30978754e-01,\n",
              "        1.87060222e-02, 2.04113048e-03, 3.59033196e-02, 1.24371928e-01,\n",
              "        6.16186388e-02, 3.83236677e-02],\n",
              "       [2.72655628e-01, 6.80679400e-01, 3.35193156e-02, 5.12539516e-01,\n",
              "        7.31994715e-02, 7.98724980e-03, 1.40495076e-01, 4.86686012e-01,\n",
              "        2.41122978e-01, 1.49966261e-01],\n",
              "       [5.58912470e-02, 1.39531396e-01, 6.87107162e-03, 1.05064667e-01,\n",
              "        1.50050442e-02, 1.63729374e-03, 2.87998641e-02, 9.97649979e-02,\n",
              "        4.94274190e-02, 3.07413473e-02],\n",
              "       [7.40503214e-02, 1.84865168e-01, 9.10348380e-03, 1.39200193e-01,\n",
              "        1.98801853e-02, 2.16925071e-03, 3.81569441e-02, 1.32178660e-01,\n",
              "        6.54863947e-02, 4.07292156e-02],\n",
              "       [4.43265161e-02, 1.10660274e-01, 5.44934463e-03, 8.33252235e-02,\n",
              "        1.19002772e-02, 1.29851329e-03, 2.28407435e-02, 7.91221350e-02,\n",
              "        3.92001503e-02, 2.43805050e-02],\n",
              "       [6.87936232e-03, 1.71741924e-02, 8.45724398e-04, 1.29318623e-02,\n",
              "        1.84689269e-03, 2.01525953e-04, 3.54482518e-03, 1.22795537e-02,\n",
              "        6.08376342e-03, 3.78379224e-03],\n",
              "       [2.18935864e-01, 5.46569069e-01, 2.69151984e-02, 4.11556816e-01,\n",
              "        5.87774024e-02, 6.41356810e-03, 1.12814143e-01, 3.90797079e-01,\n",
              "        1.93615911e-01, 1.20419275e-01],\n",
              "       [2.90478873e-01, 7.25174781e-01, 3.57104421e-02, 5.46043749e-01,\n",
              "        7.79844531e-02, 8.50936891e-03, 1.49679109e-01, 5.18500226e-01,\n",
              "        2.56884964e-01, 1.59769417e-01]])"
            ]
          },
          "metadata": {},
          "execution_count": 99
        }
      ],
      "source": [
        "A = np.random.uniform(0,1,10)\n",
        "B = np.random.uniform(0,1,10)\n",
        "np.einsum('i->', A)       \n",
        "np.einsum('i,i->i', A, B) \n",
        "np.einsum('i,i', A, B)   \n",
        "np.einsum('i,j->ij', A, B)    "
      ]
    },
    {
      "cell_type": "markdown",
      "metadata": {
        "id": "KkxHivZU1WNn"
      },
      "source": [
        "#### 98. Considering a path described by two vectors (X,Y), how to sample it using equidistant samples (★★★)? \n",
        "(**hint**: np.cumsum, np.interp)"
      ]
    },
    {
      "cell_type": "code",
      "execution_count": 100,
      "metadata": {
        "collapsed": true,
        "id": "zNeb8vsF1WNn"
      },
      "outputs": [],
      "source": [
        "phi = np.arange(0, 10*np.pi, 0.1)\n",
        "a = 1\n",
        "x = a*phi*np.cos(phi)\n",
        "y = a*phi*np.sin(phi)\n",
        "\n",
        "dr = (np.diff(x)**2 + np.diff(y)**2)**.5 \n",
        "r = np.zeros_like(x)\n",
        "r[1:] = np.cumsum(dr)                \n",
        "r_int = np.linspace(0, r.max(), 200) \n",
        "x_int = np.interp(r_int, r, x)      \n",
        "y_int = np.interp(r_int, r, y)"
      ]
    },
    {
      "cell_type": "markdown",
      "metadata": {
        "id": "IrWyXFXK1WNo"
      },
      "source": [
        "#### 99. Given an integer n and a 2D array X, select from X the rows which can be interpreted as draws from a multinomial distribution with n degrees, i.e., the rows which only contain integers and which sum to n. (★★★) \n",
        "(**hint**: np.logical\\_and.reduce, np.mod)"
      ]
    },
    {
      "cell_type": "code",
      "execution_count": 101,
      "metadata": {
        "id": "OCJeNDhe1WNo",
        "colab": {
          "base_uri": "https://localhost:8080/"
        },
        "outputId": "a5807823-bbe0-4463-eeab-85e56d66d358"
      },
      "outputs": [
        {
          "output_type": "stream",
          "name": "stdout",
          "text": [
            "[[2. 0. 1. 1.]]\n"
          ]
        }
      ],
      "source": [
        "X = np.asarray([[1.0, 0.0, 3.0, 8.0],\n",
        "                [2.0, 0.0, 1.0, 1.0],\n",
        "                [1.5, 2.5, 1.0, 0.0]])\n",
        "n = 4\n",
        "M = np.logical_and.reduce(np.mod(X, 1) == 0, axis=-1)\n",
        "M &= (X.sum(axis=-1) == n)\n",
        "print(X[M])"
      ]
    },
    {
      "cell_type": "markdown",
      "metadata": {
        "id": "7wyaiob51WNo"
      },
      "source": [
        "#### 100. Compute bootstrapped 95% confidence intervals for the mean of a 1D array X (i.e., resample the elements of an array with replacement N times, compute the mean of each sample, and then compute percentiles over the means). (★★★) \n",
        "(**hint**: np.percentile)"
      ]
    },
    {
      "cell_type": "code",
      "execution_count": 102,
      "metadata": {
        "id": "mBDTQQzB1WNo",
        "colab": {
          "base_uri": "https://localhost:8080/"
        },
        "outputId": "6c625ba6-0b83-4314-b993-92c51188c46d"
      },
      "outputs": [
        {
          "output_type": "stream",
          "name": "stdout",
          "text": [
            "[-0.05405625  0.28074214]\n"
          ]
        }
      ],
      "source": [
        "X = np.random.randn(100)\n",
        "N = 1000 \n",
        "idx = np.random.randint(0, X.size, (N, X.size))\n",
        "means = X[idx].mean(axis=1)\n",
        "confint = np.percentile(means, [2.5, 97.5])\n",
        "print(confint)"
      ]
    }
  ],
  "metadata": {
    "kernelspec": {
      "display_name": "Python 3",
      "language": "python",
      "name": "python3"
    },
    "language_info": {
      "codemirror_mode": {
        "name": "ipython",
        "version": 3
      },
      "file_extension": ".py",
      "mimetype": "text/x-python",
      "name": "python",
      "nbconvert_exporter": "python",
      "pygments_lexer": "ipython3",
      "version": "3.8.3"
    },
    "colab": {
      "provenance": []
    }
  },
  "nbformat": 4,
  "nbformat_minor": 0
}